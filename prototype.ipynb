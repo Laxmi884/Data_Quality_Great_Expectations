{
 "cells": [
  {
   "cell_type": "code",
   "execution_count": 1,
   "id": "26b9dfe8",
   "metadata": {},
   "outputs": [],
   "source": [
    "import great_expectations as gx\n",
    "from great_expectations.core import RunIdentifier\n",
    "from great_expectations.checkpoint.actions import UpdateDataDocsAction\n",
    "from datetime import datetime\n",
    "import pandas as pd\n",
    "import os\n",
    "import numpy as np"
   ]
  },
  {
   "cell_type": "code",
   "execution_count": 2,
   "id": "9c3f9fc3",
   "metadata": {},
   "outputs": [],
   "source": [
    "#getting the data and context\n",
    "context = gx.get_context() #not specified the mode name as file as we have already did that in our test file and get_context() will automatically look for the context in the current directory\n",
    "#context = gx.get_context(mode=\"file\", project_root_dir=os.getcwd()) #if you want to specify the mode and project root directory\n",
    "df = pd.read_csv(\"Test_data.csv\")"
   ]
  },
  {
   "cell_type": "code",
   "execution_count": 3,
   "id": "ed2e1a40",
   "metadata": {},
   "outputs": [],
   "source": [
    "# Specifying Names - Data Source, Data Asset, Batch, Expecation Suite, Validation, Checkpoint\n",
    "data_source_name = \"risk_analytics\"\n",
    "data_asset_name = \"delq_history\"\n",
    "batch_name = \"delq_history_batch\"\n",
    "expectation_suite_name = \"delq_history_quality_suite\" \n",
    "batch_parameters = {\"dataframe\": df}\n",
    "checkpoint_name = \"delq_history_checkpoint\"\n",
    "validation_definition_name = \"delq_history_validation\"\n",
    "run_id = RunIdentifier(run_name=f\"Delq History Validation\")"
   ]
  },
  {
   "cell_type": "code",
   "execution_count": 7,
   "id": "278dd1c2",
   "metadata": {},
   "outputs": [
    {
     "data": {
      "text/plain": [
       "great_expectations.datasource.fluent.pandas_datasource.PandasDatasource"
      ]
     },
     "execution_count": 7,
     "metadata": {},
     "output_type": "execute_result"
    }
   ],
   "source": [
    "data_source = context.data_sources.get(data_source_name)\n",
    "type(data_source)  # should be <class 'great_expectations.datasource.data_source.DataSource'>"
   ]
  },
  {
   "cell_type": "code",
   "execution_count": 4,
   "id": "c98a9e7c",
   "metadata": {},
   "outputs": [
    {
     "ename": "DataContextError",
     "evalue": "Can not write the fluent datasource risk_analytics because a datasource of that name already exists in the data context.",
     "output_type": "error",
     "traceback": [
      "\u001b[31m---------------------------------------------------------------------------\u001b[39m",
      "\u001b[31mDataContextError\u001b[39m                          Traceback (most recent call last)",
      "\u001b[36mCell\u001b[39m\u001b[36m \u001b[39m\u001b[32mIn[4]\u001b[39m\u001b[32m, line 2\u001b[39m\n\u001b[32m      1\u001b[39m \u001b[38;5;66;03m# adding data source,  data asset, batch to the context\u001b[39;00m\n\u001b[32m----> \u001b[39m\u001b[32m2\u001b[39m data_source = \u001b[43mcontext\u001b[49m\u001b[43m.\u001b[49m\u001b[43mdata_sources\u001b[49m\u001b[43m.\u001b[49m\u001b[43madd_pandas\u001b[49m\u001b[43m(\u001b[49m\u001b[43mname\u001b[49m\u001b[43m=\u001b[49m\u001b[43mdata_source_name\u001b[49m\u001b[43m)\u001b[49m\n\u001b[32m      3\u001b[39m data_asset = data_source.add_dataframe_asset(name=data_asset_name)\n\u001b[32m      4\u001b[39m batch_definition = data_asset.add_batch_definition_whole_dataframe(name=batch_name)\n",
      "\u001b[36mFile \u001b[39m\u001b[32mc:\\Users\\650000337\\Documents\\Lax_dev\\Data_Quality_Great_Expectations\\.venv\\Lib\\site-packages\\great_expectations\\datasource\\fluent\\sources.py:477\u001b[39m, in \u001b[36mDataSourceManager.create_add_crud_method.<locals>.add_datasource\u001b[39m\u001b[34m(name_or_datasource, **kwargs)\u001b[39m\n\u001b[32m    475\u001b[39m datasource._data_context = \u001b[38;5;28mself\u001b[39m._data_context\n\u001b[32m    476\u001b[39m datasource.test_connection()\n\u001b[32m--> \u001b[39m\u001b[32m477\u001b[39m datasource = \u001b[38;5;28;43mself\u001b[39;49m\u001b[43m.\u001b[49m\u001b[43m_data_context\u001b[49m\u001b[43m.\u001b[49m\u001b[43m_add_fluent_datasource\u001b[49m\u001b[43m(\u001b[49m\u001b[43mdatasource\u001b[49m\u001b[43m)\u001b[49m\n\u001b[32m    479\u001b[39m \u001b[38;5;28;01mreturn\u001b[39;00m datasource\n",
      "\u001b[36mFile \u001b[39m\u001b[32mc:\\Users\\650000337\\Documents\\Lax_dev\\Data_Quality_Great_Expectations\\.venv\\Lib\\site-packages\\great_expectations\\data_context\\data_context\\abstract_data_context.py:596\u001b[39m, in \u001b[36mAbstractDataContext._add_fluent_datasource\u001b[39m\u001b[34m(self, datasource, save_changes, **kwargs)\u001b[39m\n\u001b[32m    594\u001b[39m \u001b[38;5;66;03m# We currently don't allow one to overwrite a datasource with this internal method\u001b[39;00m\n\u001b[32m    595\u001b[39m \u001b[38;5;28;01mif\u001b[39;00m datasource_name \u001b[38;5;129;01min\u001b[39;00m \u001b[38;5;28mself\u001b[39m.data_sources.all():\n\u001b[32m--> \u001b[39m\u001b[32m596\u001b[39m     \u001b[38;5;28;01mraise\u001b[39;00m gx_exceptions.DataContextError(  \u001b[38;5;66;03m# noqa: TRY003 # FIXME CoP\u001b[39;00m\n\u001b[32m    597\u001b[39m         \u001b[33mf\u001b[39m\u001b[33m\"\u001b[39m\u001b[33mCan not write the fluent datasource \u001b[39m\u001b[38;5;132;01m{\u001b[39;00mdatasource_name\u001b[38;5;132;01m}\u001b[39;00m\u001b[33m because a datasource of that \u001b[39m\u001b[33m\"\u001b[39m  \u001b[38;5;66;03m# noqa: E501 # FIXME CoP\u001b[39;00m\n\u001b[32m    598\u001b[39m         \u001b[33m\"\u001b[39m\u001b[33mname already exists in the data context.\u001b[39m\u001b[33m\"\u001b[39m\n\u001b[32m    599\u001b[39m     )\n\u001b[32m    601\u001b[39m \u001b[38;5;28;01mif\u001b[39;00m \u001b[38;5;129;01mnot\u001b[39;00m datasource:\n\u001b[32m    602\u001b[39m     ds_type = DataSourceManager.type_lookup[kwargs[\u001b[33m\"\u001b[39m\u001b[33mtype\u001b[39m\u001b[33m\"\u001b[39m]]\n",
      "\u001b[31mDataContextError\u001b[39m: Can not write the fluent datasource risk_analytics because a datasource of that name already exists in the data context."
     ]
    }
   ],
   "source": [
    "# adding data source,  data asset, batch to the context\n",
    "data_source = context.data_sources.add_pandas(name=data_source_name)\n",
    "data_asset = data_source.add_dataframe_asset(name=data_asset_name)\n",
    "batch_definition = data_asset.add_batch_definition_whole_dataframe(name=batch_name)"
   ]
  },
  {
   "cell_type": "code",
   "execution_count": 11,
   "id": "380ec751",
   "metadata": {},
   "outputs": [
    {
     "data": {
      "text/plain": [
       "{\n",
       "  \"name\": \"delq_history_quality_suite\",\n",
       "  \"id\": \"72ea19b8-992e-4ede-9ef9-dd327ee9b6a0\",\n",
       "  \"expectations\": [],\n",
       "  \"meta\": {\n",
       "    \"great_expectations_version\": \"1.5.5\"\n",
       "  },\n",
       "  \"notes\": null\n",
       "}"
      ]
     },
     "execution_count": 11,
     "metadata": {},
     "output_type": "execute_result"
    }
   ],
   "source": [
    "# Creating an expectation suite and adding it to the context\n",
    "delq_suite = gx.ExpectationSuite(name=expectation_suite_name)\n",
    "context.suites.add(delq_suite)"
   ]
  },
  {
   "cell_type": "code",
   "execution_count": 12,
   "id": "d7a91864",
   "metadata": {},
   "outputs": [],
   "source": [
    "# Creating Expectations and add them to the expectation suite\n",
    "# Expecation 1: Column 'Region' Should be in a set of values \n",
    "    # We will use the value counts of the 'REGION' column to create a set of expected values\n",
    "    # and then use that set to create an expectation that the 'REGION' column should only contain those values.\n",
    "    # This is useful for ensuring that the 'REGION' column does not contain unexpected values.\n",
    "region_set = set(df['REGION'].value_counts().index)\n",
    "region_set.remove(\"OTHER\")\n",
    "region_expectation = gx.expectations.ExpectColumnValuesToBeInSet( \n",
    "        column=\"REGION\",\n",
    "        value_set=region_set,\n",
    "        result_format=\"COMPLETE\",\n",
    "        mostly=0.99\n",
    "    )\n",
    "delq_suite.add_expectation(region_expectation)\n",
    "\n",
    "# Expecation 2: Columns which should not be null \n",
    "not_null_columns = [\"REGION\", \"CERTNUM\",\"DTAPPREC\"]\n",
    "for column in not_null_columns:\n",
    "    expectation_name = f\"not_null_expectation_{column}\"\n",
    "    expectation_name = gx.expectations.ExpectColumnValuesToNotBeNull(\n",
    "        column=column,\n",
    "        result_format=\"COMPLETE\",\n",
    "        mostly=0.99\n",
    "    )\n",
    "    delq_suite.add_expectation(expectation_name)\n",
    "\n",
    "# Expecation 3: Columns which should be not null with a condition \n",
    "condition_columns = [\"CURRENT_OUTSTANDING_BAL_AMT\", \"CPA_REMAINING_AMORTIZATION\"]\n",
    "for column in condition_columns:\n",
    "    expectation_name = f\"not_null_condition_expectation_{column}\"\n",
    "    expectation_name = gx.expectations.ExpectColumnValuesToNotBeNull(\n",
    "        column=column,\n",
    "        result_format=\"COMPLETE\",\n",
    "        mostly=0.99,\n",
    "        row_condition= 'CURRENT_OUTSTANDING_BAL_AMT > 0'\n",
    "    )\n",
    "    delq_suite.add_expectation(expectation_name)\n",
    "\n",
    "# Expecation 4: Column 'CURRENT_OUTSTANDING_BAL_AMT' should be greater than 0 when 'CPA_REMAINING_AMORTIZATION' is greater than 0\n",
    "outstanding_condition_expectation = gx.expectations.ExpectColumnValuesToNotBeNull(\n",
    "        column=\"CURRENT_OUTSTANDING_BAL_AMT\",\n",
    "        result_format=\"COMPLETE\",\n",
    "        mostly=0.99,\n",
    "        row_condition='CPA_REMAINING_AMORTIZATION > 0'\n",
    "    )\n",
    "delq_suite.add_expectation(outstanding_condition_expectation)\n",
    "\n",
    "# Expecation 5: Outstanding balance should be less than or equal to 1500000\n",
    "outstanding_balance_expectation = gx.expectations.ExpectColumnValuesToBeBetween(\n",
    "        column=\"CURRENT_OUTSTANDING_BAL_AMT\",\n",
    "        min_value=  0,\n",
    "        strict_min = True,\n",
    "        max_value=1500000,\n",
    "        result_format=\"COMPLETE\",\n",
    "        mostly=0.99\n",
    "    )"
   ]
  },
  {
   "cell_type": "code",
   "execution_count": 31,
   "id": "45c1a63e",
   "metadata": {},
   "outputs": [
    {
     "data": {
      "text/plain": [
       "[ExpectColumnValuesToBeInSet(id='028de4d7-b367-445b-844b-470545b01b24', meta=None, notes=None, result_format=<ResultFormat.COMPLETE: 'COMPLETE'>, description=None, catch_exceptions=True, rendered_content=None, windows=None, batch_id=None, column='REGION', mostly=0.99, row_condition=None, condition_parser='pandas', value_set=['GTA', 'PACIFIC', 'ATLANTIC', 'PRAIRIES', 'QUEBEC', 'ONTARIO', 'ALBERTA']),\n",
       " ExpectColumnValuesToNotBeNull(id='bf9fffdb-2abc-42ef-9158-253490f6900b', meta=None, notes=None, result_format=<ResultFormat.COMPLETE: 'COMPLETE'>, description=None, catch_exceptions=True, rendered_content=None, windows=None, batch_id=None, column='REGION', mostly=0.99, row_condition=None, condition_parser='pandas'),\n",
       " ExpectColumnValuesToNotBeNull(id='8235255c-4aff-4671-8c84-3c8ff55c4180', meta=None, notes=None, result_format=<ResultFormat.COMPLETE: 'COMPLETE'>, description=None, catch_exceptions=True, rendered_content=None, windows=None, batch_id=None, column='CERTNUM', mostly=0.99, row_condition=None, condition_parser='pandas'),\n",
       " ExpectColumnValuesToNotBeNull(id='00e68719-e04b-4be1-9978-174883c19905', meta=None, notes=None, result_format=<ResultFormat.COMPLETE: 'COMPLETE'>, description=None, catch_exceptions=True, rendered_content=None, windows=None, batch_id=None, column='DTAPPREC', mostly=0.99, row_condition=None, condition_parser='pandas'),\n",
       " ExpectColumnValuesToNotBeNull(id='a697d456-1b3e-447e-80c5-352845e55020', meta=None, notes=None, result_format=<ResultFormat.COMPLETE: 'COMPLETE'>, description=None, catch_exceptions=True, rendered_content=None, windows=None, batch_id=None, column='CURRENT_OUTSTANDING_BAL_AMT', mostly=0.99, row_condition='CURRENT_OUTSTANDING_BAL_AMT > 0', condition_parser='pandas'),\n",
       " ExpectColumnValuesToNotBeNull(id='0dc69e74-9de6-4633-a109-4b272a31f989', meta=None, notes=None, result_format=<ResultFormat.COMPLETE: 'COMPLETE'>, description=None, catch_exceptions=True, rendered_content=None, windows=None, batch_id=None, column='CPA_REMAINING_AMORTIZATION', mostly=0.99, row_condition='CURRENT_OUTSTANDING_BAL_AMT > 0', condition_parser='pandas'),\n",
       " ExpectColumnValuesToNotBeNull(id='fcbc3833-d158-44f0-b55f-108a5669c9e2', meta=None, notes=None, result_format=<ResultFormat.COMPLETE: 'COMPLETE'>, description=None, catch_exceptions=True, rendered_content=None, windows=None, batch_id=None, column='CURRENT_OUTSTANDING_BAL_AMT', mostly=0.99, row_condition='CPA_REMAINING_AMORTIZATION > 0', condition_parser='pandas')]"
      ]
     },
     "execution_count": 31,
     "metadata": {},
     "output_type": "execute_result"
    }
   ],
   "source": [
    "delq_suite.expectations"
   ]
  },
  {
   "cell_type": "code",
   "execution_count": 23,
   "id": "2edd944f",
   "metadata": {},
   "outputs": [
    {
     "data": {
      "text/plain": [
       "ValidationDefinition(name='delq_history_validation', data=BatchDefinition(id=UUID('8a63d1e7-333a-41ed-811c-e0a568265ea4'), name='delq_history_batch', partitioner=None), suite={\n",
       "  \"name\": \"delq_history_quality_suite\",\n",
       "  \"id\": \"72ea19b8-992e-4ede-9ef9-dd327ee9b6a0\",\n",
       "  \"expectations\": [\n",
       "    {\n",
       "      \"type\": \"expect_column_values_to_be_in_set\",\n",
       "      \"kwargs\": {\n",
       "        \"result_format\": \"COMPLETE\",\n",
       "        \"column\": \"REGION\",\n",
       "        \"mostly\": 0.99,\n",
       "        \"value_set\": [\n",
       "          \"GTA\",\n",
       "          \"PACIFIC\",\n",
       "          \"ATLANTIC\",\n",
       "          \"PRAIRIES\",\n",
       "          \"QUEBEC\",\n",
       "          \"ONTARIO\",\n",
       "          \"ALBERTA\"\n",
       "        ]\n",
       "      },\n",
       "      \"meta\": {},\n",
       "      \"id\": \"028de4d7-b367-445b-844b-470545b01b24\"\n",
       "    },\n",
       "    {\n",
       "      \"type\": \"expect_column_values_to_not_be_null\",\n",
       "      \"kwargs\": {\n",
       "        \"result_format\": \"COMPLETE\",\n",
       "        \"column\": \"REGION\",\n",
       "        \"mostly\": 0.99\n",
       "      },\n",
       "      \"meta\": {},\n",
       "      \"id\": \"bf9fffdb-2abc-42ef-9158-253490f6900b\"\n",
       "    },\n",
       "    {\n",
       "      \"type\": \"expect_column_values_to_not_be_null\",\n",
       "      \"kwargs\": {\n",
       "        \"result_format\": \"COMPLETE\",\n",
       "        \"column\": \"CERTNUM\",\n",
       "        \"mostly\": 0.99\n",
       "      },\n",
       "      \"meta\": {},\n",
       "      \"id\": \"8235255c-4aff-4671-8c84-3c8ff55c4180\"\n",
       "    },\n",
       "    {\n",
       "      \"type\": \"expect_column_values_to_not_be_null\",\n",
       "      \"kwargs\": {\n",
       "        \"result_format\": \"COMPLETE\",\n",
       "        \"column\": \"DTAPPREC\",\n",
       "        \"mostly\": 0.99\n",
       "      },\n",
       "      \"meta\": {},\n",
       "      \"id\": \"00e68719-e04b-4be1-9978-174883c19905\"\n",
       "    },\n",
       "    {\n",
       "      \"type\": \"expect_column_values_to_not_be_null\",\n",
       "      \"kwargs\": {\n",
       "        \"result_format\": \"COMPLETE\",\n",
       "        \"column\": \"CURRENT_OUTSTANDING_BAL_AMT\",\n",
       "        \"mostly\": 0.99,\n",
       "        \"row_condition\": \"CURRENT_OUTSTANDING_BAL_AMT > 0\"\n",
       "      },\n",
       "      \"meta\": {},\n",
       "      \"id\": \"a697d456-1b3e-447e-80c5-352845e55020\"\n",
       "    },\n",
       "    {\n",
       "      \"type\": \"expect_column_values_to_not_be_null\",\n",
       "      \"kwargs\": {\n",
       "        \"result_format\": \"COMPLETE\",\n",
       "        \"column\": \"CPA_REMAINING_AMORTIZATION\",\n",
       "        \"mostly\": 0.99,\n",
       "        \"row_condition\": \"CURRENT_OUTSTANDING_BAL_AMT > 0\"\n",
       "      },\n",
       "      \"meta\": {},\n",
       "      \"id\": \"0dc69e74-9de6-4633-a109-4b272a31f989\"\n",
       "    },\n",
       "    {\n",
       "      \"type\": \"expect_column_values_to_not_be_null\",\n",
       "      \"kwargs\": {\n",
       "        \"result_format\": \"COMPLETE\",\n",
       "        \"column\": \"CURRENT_OUTSTANDING_BAL_AMT\",\n",
       "        \"mostly\": 0.99,\n",
       "        \"row_condition\": \"CPA_REMAINING_AMORTIZATION > 0\"\n",
       "      },\n",
       "      \"meta\": {},\n",
       "      \"id\": \"fcbc3833-d158-44f0-b55f-108a5669c9e2\"\n",
       "    }\n",
       "  ],\n",
       "  \"meta\": {\n",
       "    \"great_expectations_version\": \"1.5.5\"\n",
       "  },\n",
       "  \"notes\": null\n",
       "}, id='a4120793-8ac0-4754-81e3-566a7ab68c24')"
      ]
     },
     "execution_count": 23,
     "metadata": {},
     "output_type": "execute_result"
    }
   ],
   "source": [
    "validation_definition = gx.ValidationDefinition(\n",
    "    name=validation_definition_name,\n",
    "    suite=delq_suite,\n",
    "    data =batch_definition)\n",
    "\n",
    "context.validation_definitions.add(validation_definition)"
   ]
  },
  {
   "cell_type": "code",
   "execution_count": 24,
   "id": "2c933458",
   "metadata": {},
   "outputs": [
    {
     "data": {
      "text/plain": [
       "Checkpoint(name='delq_history_checkpoint', validation_definitions=[ValidationDefinition(name='delq_history_validation', data=BatchDefinition(id=UUID('8a63d1e7-333a-41ed-811c-e0a568265ea4'), name='delq_history_batch', partitioner=None), suite={\n",
       "  \"name\": \"delq_history_quality_suite\",\n",
       "  \"id\": \"72ea19b8-992e-4ede-9ef9-dd327ee9b6a0\",\n",
       "  \"expectations\": [\n",
       "    {\n",
       "      \"type\": \"expect_column_values_to_be_in_set\",\n",
       "      \"kwargs\": {\n",
       "        \"result_format\": \"COMPLETE\",\n",
       "        \"column\": \"REGION\",\n",
       "        \"mostly\": 0.99,\n",
       "        \"value_set\": [\n",
       "          \"GTA\",\n",
       "          \"PACIFIC\",\n",
       "          \"ATLANTIC\",\n",
       "          \"PRAIRIES\",\n",
       "          \"QUEBEC\",\n",
       "          \"ONTARIO\",\n",
       "          \"ALBERTA\"\n",
       "        ]\n",
       "      },\n",
       "      \"meta\": {},\n",
       "      \"id\": \"028de4d7-b367-445b-844b-470545b01b24\"\n",
       "    },\n",
       "    {\n",
       "      \"type\": \"expect_column_values_to_not_be_null\",\n",
       "      \"kwargs\": {\n",
       "        \"result_format\": \"COMPLETE\",\n",
       "        \"column\": \"REGION\",\n",
       "        \"mostly\": 0.99\n",
       "      },\n",
       "      \"meta\": {},\n",
       "      \"id\": \"bf9fffdb-2abc-42ef-9158-253490f6900b\"\n",
       "    },\n",
       "    {\n",
       "      \"type\": \"expect_column_values_to_not_be_null\",\n",
       "      \"kwargs\": {\n",
       "        \"result_format\": \"COMPLETE\",\n",
       "        \"column\": \"CERTNUM\",\n",
       "        \"mostly\": 0.99\n",
       "      },\n",
       "      \"meta\": {},\n",
       "      \"id\": \"8235255c-4aff-4671-8c84-3c8ff55c4180\"\n",
       "    },\n",
       "    {\n",
       "      \"type\": \"expect_column_values_to_not_be_null\",\n",
       "      \"kwargs\": {\n",
       "        \"result_format\": \"COMPLETE\",\n",
       "        \"column\": \"DTAPPREC\",\n",
       "        \"mostly\": 0.99\n",
       "      },\n",
       "      \"meta\": {},\n",
       "      \"id\": \"00e68719-e04b-4be1-9978-174883c19905\"\n",
       "    },\n",
       "    {\n",
       "      \"type\": \"expect_column_values_to_not_be_null\",\n",
       "      \"kwargs\": {\n",
       "        \"result_format\": \"COMPLETE\",\n",
       "        \"column\": \"CURRENT_OUTSTANDING_BAL_AMT\",\n",
       "        \"mostly\": 0.99,\n",
       "        \"row_condition\": \"CURRENT_OUTSTANDING_BAL_AMT > 0\"\n",
       "      },\n",
       "      \"meta\": {},\n",
       "      \"id\": \"a697d456-1b3e-447e-80c5-352845e55020\"\n",
       "    },\n",
       "    {\n",
       "      \"type\": \"expect_column_values_to_not_be_null\",\n",
       "      \"kwargs\": {\n",
       "        \"result_format\": \"COMPLETE\",\n",
       "        \"column\": \"CPA_REMAINING_AMORTIZATION\",\n",
       "        \"mostly\": 0.99,\n",
       "        \"row_condition\": \"CURRENT_OUTSTANDING_BAL_AMT > 0\"\n",
       "      },\n",
       "      \"meta\": {},\n",
       "      \"id\": \"0dc69e74-9de6-4633-a109-4b272a31f989\"\n",
       "    },\n",
       "    {\n",
       "      \"type\": \"expect_column_values_to_not_be_null\",\n",
       "      \"kwargs\": {\n",
       "        \"result_format\": \"COMPLETE\",\n",
       "        \"column\": \"CURRENT_OUTSTANDING_BAL_AMT\",\n",
       "        \"mostly\": 0.99,\n",
       "        \"row_condition\": \"CPA_REMAINING_AMORTIZATION > 0\"\n",
       "      },\n",
       "      \"meta\": {},\n",
       "      \"id\": \"fcbc3833-d158-44f0-b55f-108a5669c9e2\"\n",
       "    }\n",
       "  ],\n",
       "  \"meta\": {\n",
       "    \"great_expectations_version\": \"1.5.5\"\n",
       "  },\n",
       "  \"notes\": null\n",
       "}, id='a4120793-8ac0-4754-81e3-566a7ab68c24')], actions=[UpdateDataDocsAction(type='update_data_docs', name='Update Data Docs for delq history', site_names=[])], result_format={'result_format': 'COMPLETE'}, id='fb77f892-3b74-4d33-bcef-fcade7229b8c')"
      ]
     },
     "execution_count": 24,
     "metadata": {},
     "output_type": "execute_result"
    }
   ],
   "source": [
    "# Specifying the action to take when the validation fails\n",
    "action_list = [UpdateDataDocsAction(\n",
    "    name=\"Update Data Docs for delq history\",\n",
    ")]\n",
    "checkpoint = gx.Checkpoint(\n",
    "    name=checkpoint_name,\n",
    "    validation_definitions=[validation_definition],\n",
    "    actions=action_list,\n",
    "    result_format= {\"result_format\": \"COMPLETE\"})\n",
    "\n",
    "context.checkpoints.add(checkpoint)\n"
   ]
  },
  {
   "cell_type": "code",
   "execution_count": 33,
   "id": "273fda13",
   "metadata": {},
   "outputs": [
    {
     "name": "stderr",
     "output_type": "stream",
     "text": [
      "Calculating Metrics: 100%|██████████| 49/49 [00:06<00:00,  7.46it/s]\n"
     ]
    },
    {
     "name": "stdout",
     "output_type": "stream",
     "text": [
      "Result of the run: True\n"
     ]
    }
   ],
   "source": [
    "# Running the checkpoint\n",
    "checkpoint_result = checkpoint.run(run_id=run_id, batch_parameters=batch_parameters)\n",
    "\n",
    "# Displaying the result of the checkpoint run\n",
    "print(f\"Result of the run: {checkpoint_result.success}\")"
   ]
  },
  {
   "cell_type": "code",
   "execution_count": 30,
   "id": "f425fce0",
   "metadata": {},
   "outputs": [],
   "source": [
    "for exp in delq_suite.expectations:\n",
    "    exp.condition_parser= \"pandas\"\n",
    "delq_suite.save()"
   ]
  },
  {
   "cell_type": "code",
   "execution_count": 7,
   "id": "483c0f30",
   "metadata": {},
   "outputs": [],
   "source": [
    "# Modifying the expecatio suite to include description for few excepeation with conditions \n",
    "delq_suite = context.suites.get(expectation_suite_name)\n",
    "for exp in delq_suite.expectations:\n",
    "    if isinstance(exp, gx.expectations.ExpectColumnValuesToNotBeNull) and exp.row_condition:\n",
    "        exp.description = f\"Column '{exp.column}' should not be null when {exp.row_condition}\"\n",
    "    elif isinstance(exp, gx.expectations.ExpectColumnValuesToBeBetween):\n",
    "        exp.description = f\"Column '{exp.column}' should be between {exp.min_value} and {exp.max_value}\"\n",
    "delq_suite.save()"
   ]
  },
  {
   "cell_type": "code",
   "execution_count": 8,
   "id": "a06311f6",
   "metadata": {},
   "outputs": [
    {
     "data": {
      "text/plain": [
       "[ExpectColumnValuesToBeInSet(id='028de4d7-b367-445b-844b-470545b01b24', meta={}, notes=None, result_format=<ResultFormat.COMPLETE: 'COMPLETE'>, description=None, catch_exceptions=True, rendered_content=None, windows=None, batch_id=None, column='REGION', mostly=0.99, row_condition=None, condition_parser='pandas', value_set=['GTA', 'PACIFIC', 'ATLANTIC', 'PRAIRIES', 'QUEBEC', 'ONTARIO', 'ALBERTA']),\n",
       " ExpectColumnValuesToNotBeNull(id='bf9fffdb-2abc-42ef-9158-253490f6900b', meta={}, notes=None, result_format=<ResultFormat.COMPLETE: 'COMPLETE'>, description=None, catch_exceptions=True, rendered_content=None, windows=None, batch_id=None, column='REGION', mostly=0.99, row_condition=None, condition_parser='pandas'),\n",
       " ExpectColumnValuesToNotBeNull(id='8235255c-4aff-4671-8c84-3c8ff55c4180', meta={}, notes=None, result_format=<ResultFormat.COMPLETE: 'COMPLETE'>, description=None, catch_exceptions=True, rendered_content=None, windows=None, batch_id=None, column='CERTNUM', mostly=0.99, row_condition=None, condition_parser='pandas'),\n",
       " ExpectColumnValuesToNotBeNull(id='00e68719-e04b-4be1-9978-174883c19905', meta={}, notes=None, result_format=<ResultFormat.COMPLETE: 'COMPLETE'>, description=None, catch_exceptions=True, rendered_content=None, windows=None, batch_id=None, column='DTAPPREC', mostly=0.99, row_condition=None, condition_parser='pandas'),\n",
       " ExpectColumnValuesToNotBeNull(id='a697d456-1b3e-447e-80c5-352845e55020', meta={}, notes=None, result_format=<ResultFormat.COMPLETE: 'COMPLETE'>, description=\"Column 'CURRENT_OUTSTANDING_BAL_AMT' should not be null when CURRENT_OUTSTANDING_BAL_AMT > 0\", catch_exceptions=True, rendered_content=None, windows=None, batch_id=None, column='CURRENT_OUTSTANDING_BAL_AMT', mostly=0.99, row_condition='CURRENT_OUTSTANDING_BAL_AMT > 0', condition_parser='pandas'),\n",
       " ExpectColumnValuesToNotBeNull(id='0dc69e74-9de6-4633-a109-4b272a31f989', meta={}, notes=None, result_format=<ResultFormat.COMPLETE: 'COMPLETE'>, description=\"Column 'CPA_REMAINING_AMORTIZATION' should not be null when CURRENT_OUTSTANDING_BAL_AMT > 0\", catch_exceptions=True, rendered_content=None, windows=None, batch_id=None, column='CPA_REMAINING_AMORTIZATION', mostly=0.99, row_condition='CURRENT_OUTSTANDING_BAL_AMT > 0', condition_parser='pandas'),\n",
       " ExpectColumnValuesToNotBeNull(id='fcbc3833-d158-44f0-b55f-108a5669c9e2', meta={}, notes=None, result_format=<ResultFormat.COMPLETE: 'COMPLETE'>, description=\"Column 'CURRENT_OUTSTANDING_BAL_AMT' should not be null when CPA_REMAINING_AMORTIZATION > 0\", catch_exceptions=True, rendered_content=None, windows=None, batch_id=None, column='CURRENT_OUTSTANDING_BAL_AMT', mostly=0.99, row_condition='CPA_REMAINING_AMORTIZATION > 0', condition_parser='pandas')]"
      ]
     },
     "execution_count": 8,
     "metadata": {},
     "output_type": "execute_result"
    }
   ],
   "source": [
    "delq_suite.expectations"
   ]
  },
  {
   "cell_type": "markdown",
   "id": "b3f673f0",
   "metadata": {},
   "source": [
    "# Running it after the checkpoints are setup "
   ]
  },
  {
   "cell_type": "code",
   "execution_count": 3,
   "id": "2bf02d13",
   "metadata": {},
   "outputs": [],
   "source": [
    "batch_parameters = {\"dataframe\": df}\n",
    "checkpoint_name = \"delq_history_checkpoint\"\n",
    "run_id = RunIdentifier(run_name=f\"Delq History Validation\")"
   ]
  },
  {
   "cell_type": "code",
   "execution_count": 4,
   "id": "55cbab9c",
   "metadata": {},
   "outputs": [
    {
     "name": "stderr",
     "output_type": "stream",
     "text": [
      "Calculating Metrics: 100%|██████████| 49/49 [00:06<00:00,  7.70it/s]\n"
     ]
    },
    {
     "name": "stdout",
     "output_type": "stream",
     "text": [
      "Checkpoint run result: True\n"
     ]
    }
   ],
   "source": [
    "checkpoint = context.checkpoints.get(checkpoint_name)\n",
    "checkpoint_result = checkpoint.run(run_id=run_id, batch_parameters=batch_parameters)\n",
    "print(f\"Checkpoint run result: {checkpoint_result.success}\")"
   ]
  },
  {
   "cell_type": "code",
   "execution_count": null,
   "id": "7babe1e4",
   "metadata": {},
   "outputs": [],
   "source": []
  }
 ],
 "metadata": {
  "kernelspec": {
   "display_name": ".venv",
   "language": "python",
   "name": "python3"
  },
  "language_info": {
   "codemirror_mode": {
    "name": "ipython",
    "version": 3
   },
   "file_extension": ".py",
   "mimetype": "text/x-python",
   "name": "python",
   "nbconvert_exporter": "python",
   "pygments_lexer": "ipython3",
   "version": "3.12.2"
  }
 },
 "nbformat": 4,
 "nbformat_minor": 5
}
