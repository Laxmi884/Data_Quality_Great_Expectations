{
 "cells": [
  {
   "cell_type": "code",
   "execution_count": 2,
   "id": "dbc8d4e7",
   "metadata": {},
   "outputs": [
    {
     "name": "stdout",
     "output_type": "stream",
     "text": [
      "Requirement already satisfied: great-expectations==1.5.6 in ./.venv/lib/python3.12/site-packages (1.5.6)\n",
      "Requirement already satisfied: altair<5.0.0,>=4.2.1 in ./.venv/lib/python3.12/site-packages (from great-expectations==1.5.6) (4.2.2)\n",
      "Requirement already satisfied: cryptography>=3.2 in ./.venv/lib/python3.12/site-packages (from great-expectations==1.5.6) (45.0.5)\n",
      "Requirement already satisfied: jinja2>=3 in ./.venv/lib/python3.12/site-packages (from great-expectations==1.5.6) (3.1.6)\n",
      "Requirement already satisfied: jsonschema>=2.5.1 in ./.venv/lib/python3.12/site-packages (from great-expectations==1.5.6) (4.25.0)\n",
      "Requirement already satisfied: marshmallow<4.0.0,>=3.7.1 in ./.venv/lib/python3.12/site-packages (from great-expectations==1.5.6) (3.26.1)\n",
      "Requirement already satisfied: mistune>=0.8.4 in ./.venv/lib/python3.12/site-packages (from great-expectations==1.5.6) (3.1.3)\n",
      "Requirement already satisfied: packaging in ./.venv/lib/python3.12/site-packages (from great-expectations==1.5.6) (25.0)\n",
      "Requirement already satisfied: posthog<6,>3 in ./.venv/lib/python3.12/site-packages (from great-expectations==1.5.6) (5.4.0)\n",
      "Requirement already satisfied: pydantic>=1.10.7 in ./.venv/lib/python3.12/site-packages (from great-expectations==1.5.6) (2.11.7)\n",
      "Requirement already satisfied: pyparsing>=2.4 in ./.venv/lib/python3.12/site-packages (from great-expectations==1.5.6) (3.2.3)\n",
      "Requirement already satisfied: python-dateutil>=2.8.1 in ./.venv/lib/python3.12/site-packages (from great-expectations==1.5.6) (2.9.0.post0)\n",
      "Requirement already satisfied: requests>=2.20 in ./.venv/lib/python3.12/site-packages (from great-expectations==1.5.6) (2.32.4)\n",
      "Requirement already satisfied: ruamel.yaml>=0.16 in ./.venv/lib/python3.12/site-packages (from great-expectations==1.5.6) (0.18.14)\n",
      "Requirement already satisfied: scipy>=1.6.0 in ./.venv/lib/python3.12/site-packages (from great-expectations==1.5.6) (1.16.1)\n",
      "Requirement already satisfied: tqdm>=4.59.0 in ./.venv/lib/python3.12/site-packages (from great-expectations==1.5.6) (4.67.1)\n",
      "Requirement already satisfied: typing-extensions>=4.1.0 in ./.venv/lib/python3.12/site-packages (from great-expectations==1.5.6) (4.14.1)\n",
      "Requirement already satisfied: tzlocal>=1.2 in ./.venv/lib/python3.12/site-packages (from great-expectations==1.5.6) (5.3.1)\n",
      "Requirement already satisfied: numpy>=1.22.4 in ./.venv/lib/python3.12/site-packages (from great-expectations==1.5.6) (1.26.4)\n",
      "Requirement already satisfied: pandas<2.2,>=1.3.0 in ./.venv/lib/python3.12/site-packages (from great-expectations==1.5.6) (2.1.4)\n",
      "Requirement already satisfied: entrypoints in ./.venv/lib/python3.12/site-packages (from altair<5.0.0,>=4.2.1->great-expectations==1.5.6) (0.4)\n",
      "Requirement already satisfied: toolz in ./.venv/lib/python3.12/site-packages (from altair<5.0.0,>=4.2.1->great-expectations==1.5.6) (1.0.0)\n",
      "Requirement already satisfied: pytz>=2020.1 in ./.venv/lib/python3.12/site-packages (from pandas<2.2,>=1.3.0->great-expectations==1.5.6) (2025.2)\n",
      "Requirement already satisfied: tzdata>=2022.1 in ./.venv/lib/python3.12/site-packages (from pandas<2.2,>=1.3.0->great-expectations==1.5.6) (2025.2)\n",
      "Requirement already satisfied: six>=1.5 in ./.venv/lib/python3.12/site-packages (from posthog<6,>3->great-expectations==1.5.6) (1.17.0)\n",
      "Requirement already satisfied: backoff>=1.10.0 in ./.venv/lib/python3.12/site-packages (from posthog<6,>3->great-expectations==1.5.6) (2.2.1)\n",
      "Requirement already satisfied: distro>=1.5.0 in ./.venv/lib/python3.12/site-packages (from posthog<6,>3->great-expectations==1.5.6) (1.9.0)\n",
      "Requirement already satisfied: charset_normalizer<4,>=2 in ./.venv/lib/python3.12/site-packages (from requests>=2.20->great-expectations==1.5.6) (3.4.2)\n",
      "Requirement already satisfied: idna<4,>=2.5 in ./.venv/lib/python3.12/site-packages (from requests>=2.20->great-expectations==1.5.6) (3.10)\n",
      "Requirement already satisfied: urllib3<3,>=1.21.1 in ./.venv/lib/python3.12/site-packages (from requests>=2.20->great-expectations==1.5.6) (2.5.0)\n",
      "Requirement already satisfied: certifi>=2017.4.17 in ./.venv/lib/python3.12/site-packages (from requests>=2.20->great-expectations==1.5.6) (2025.7.14)\n",
      "Requirement already satisfied: cffi>=1.14 in ./.venv/lib/python3.12/site-packages (from cryptography>=3.2->great-expectations==1.5.6) (1.17.1)\n",
      "Requirement already satisfied: pycparser in ./.venv/lib/python3.12/site-packages (from cffi>=1.14->cryptography>=3.2->great-expectations==1.5.6) (2.22)\n",
      "Requirement already satisfied: MarkupSafe>=2.0 in ./.venv/lib/python3.12/site-packages (from jinja2>=3->great-expectations==1.5.6) (3.0.2)\n",
      "Requirement already satisfied: attrs>=22.2.0 in ./.venv/lib/python3.12/site-packages (from jsonschema>=2.5.1->great-expectations==1.5.6) (25.3.0)\n",
      "Requirement already satisfied: jsonschema-specifications>=2023.03.6 in ./.venv/lib/python3.12/site-packages (from jsonschema>=2.5.1->great-expectations==1.5.6) (2025.4.1)\n",
      "Requirement already satisfied: referencing>=0.28.4 in ./.venv/lib/python3.12/site-packages (from jsonschema>=2.5.1->great-expectations==1.5.6) (0.36.2)\n",
      "Requirement already satisfied: rpds-py>=0.7.1 in ./.venv/lib/python3.12/site-packages (from jsonschema>=2.5.1->great-expectations==1.5.6) (0.26.0)\n",
      "Requirement already satisfied: annotated-types>=0.6.0 in ./.venv/lib/python3.12/site-packages (from pydantic>=1.10.7->great-expectations==1.5.6) (0.7.0)\n",
      "Requirement already satisfied: pydantic-core==2.33.2 in ./.venv/lib/python3.12/site-packages (from pydantic>=1.10.7->great-expectations==1.5.6) (2.33.2)\n",
      "Requirement already satisfied: typing-inspection>=0.4.0 in ./.venv/lib/python3.12/site-packages (from pydantic>=1.10.7->great-expectations==1.5.6) (0.4.1)\n",
      "Requirement already satisfied: ruamel.yaml.clib>=0.2.7 in ./.venv/lib/python3.12/site-packages (from ruamel.yaml>=0.16->great-expectations==1.5.6) (0.2.12)\n"
     ]
    }
   ],
   "source": [
    "!pip install great-expectations==1.5.6"
   ]
  },
  {
   "cell_type": "code",
   "execution_count": 3,
   "id": "26b9dfe8",
   "metadata": {},
   "outputs": [
    {
     "ename": "ModuleNotFoundError",
     "evalue": "No module named 'great_expectations'",
     "output_type": "error",
     "traceback": [
      "\u001b[0;31m---------------------------------------------------------------------------\u001b[0m",
      "\u001b[0;31mModuleNotFoundError\u001b[0m                       Traceback (most recent call last)",
      "Cell \u001b[0;32mIn[3], line 1\u001b[0m\n\u001b[0;32m----> 1\u001b[0m \u001b[38;5;28;01mimport\u001b[39;00m\u001b[38;5;250m \u001b[39m\u001b[38;5;21;01mgreat_expectations\u001b[39;00m\u001b[38;5;250m \u001b[39m\u001b[38;5;28;01mas\u001b[39;00m\u001b[38;5;250m \u001b[39m\u001b[38;5;21;01mgx\u001b[39;00m\n\u001b[1;32m      2\u001b[0m \u001b[38;5;28;01mfrom\u001b[39;00m\u001b[38;5;250m \u001b[39m\u001b[38;5;21;01mgreat_expectations\u001b[39;00m\u001b[38;5;21;01m.\u001b[39;00m\u001b[38;5;21;01mcore\u001b[39;00m\u001b[38;5;250m \u001b[39m\u001b[38;5;28;01mimport\u001b[39;00m RunIdentifier\n\u001b[1;32m      3\u001b[0m \u001b[38;5;28;01mfrom\u001b[39;00m\u001b[38;5;250m \u001b[39m\u001b[38;5;21;01mgreat_expectations\u001b[39;00m\u001b[38;5;21;01m.\u001b[39;00m\u001b[38;5;21;01mcheckpoint\u001b[39;00m\u001b[38;5;21;01m.\u001b[39;00m\u001b[38;5;21;01mactions\u001b[39;00m\u001b[38;5;250m \u001b[39m\u001b[38;5;28;01mimport\u001b[39;00m UpdateDataDocsAction\n",
      "\u001b[0;31mModuleNotFoundError\u001b[0m: No module named 'great_expectations'"
     ]
    }
   ],
   "source": [
    "import great_expectations as gx\n",
    "from great_expectations.core import RunIdentifier\n",
    "from great_expectations.checkpoint.actions import UpdateDataDocsAction\n",
    "from datetime import datetime\n",
    "import pandas as pd\n",
    "import os\n",
    "import numpy as np"
   ]
  },
  {
   "cell_type": "code",
   "execution_count": null,
   "id": "9c3f9fc3",
   "metadata": {},
   "outputs": [],
   "source": [
    "#getting the data and context\n",
    "context = gx.get_context() #not specified the mode name as file as we have already did that in our test file and get_context() will automatically look for the context in the current directory\n",
    "#context = gx.get_context(mode=\"file\", project_root_dir=os.getcwd()) #if you want to specify the mode and project root directory\n",
    "df = pd.read_csv(\"Test_data.csv\")"
   ]
  },
  {
   "cell_type": "code",
   "execution_count": 14,
   "id": "ed2e1a40",
   "metadata": {},
   "outputs": [],
   "source": [
    "# Specifying Names - Data Source, Data Asset, Batch, Expecation Suite, Validation, Checkpoint\n",
    "data_source_name = \"risk_analytics\"\n",
    "data_asset_name = \"delq_history\"\n",
    "batch_name = \"delq_history_batch\"\n",
    "expectation_suite_name = \"delq_history_quality_suite\" \n",
    "batch_parameters = {\"dataframe\": df}\n",
    "checkpoint_name = \"delq_history_checkpoint\"\n",
    "validation_definition_name = \"delq_history_validation\"\n",
    "run_id = RunIdentifier(run_name=f\"Delq History Validation\")"
   ]
  },
  {
   "cell_type": "code",
   "execution_count": null,
   "id": "c98a9e7c",
   "metadata": {},
   "outputs": [],
   "source": [
    "# adding data source,  data asset, batch to the context\n",
    "data_source = context.data_sources.add_pandas(name=data_source_name)\n",
    "data_asset = data_source.add_dataframe_asset(name=data_asset_name)\n",
    "batch_definition = data_asset.add_batch_definition_whole_dataframe(name=batch_name)"
   ]
  },
  {
   "cell_type": "code",
   "execution_count": 11,
   "id": "380ec751",
   "metadata": {},
   "outputs": [
    {
     "data": {
      "text/plain": [
       "{\n",
       "  \"name\": \"delq_history_quality_suite\",\n",
       "  \"id\": \"72ea19b8-992e-4ede-9ef9-dd327ee9b6a0\",\n",
       "  \"expectations\": [],\n",
       "  \"meta\": {\n",
       "    \"great_expectations_version\": \"1.5.5\"\n",
       "  },\n",
       "  \"notes\": null\n",
       "}"
      ]
     },
     "execution_count": 11,
     "metadata": {},
     "output_type": "execute_result"
    }
   ],
   "source": [
    "# Creating an expectation suite and adding it to the context\n",
    "delq_suite = gx.ExpectationSuite(name=expectation_suite_name)\n",
    "context.suites.add(delq_suite)"
   ]
  },
  {
   "cell_type": "code",
   "execution_count": 12,
   "id": "d7a91864",
   "metadata": {},
   "outputs": [],
   "source": [
    "# Creating Expectations and add them to the expectation suite\n",
    "# Expecation 1: Column 'Region' Should be in a set of values \n",
    "    # We will use the value counts of the 'REGION' column to create a set of expected values\n",
    "    # and then use that set to create an expectation that the 'REGION' column should only contain those values.\n",
    "    # This is useful for ensuring that the 'REGION' column does not contain unexpected values.\n",
    "region_set = set(df['REGION'].value_counts().index)\n",
    "region_set.remove(\"OTHER\")\n",
    "region_expectation = gx.expectations.ExpectColumnValuesToBeInSet( \n",
    "        column=\"REGION\",\n",
    "        value_set=region_set,\n",
    "        result_format=\"COMPLETE\",\n",
    "        mostly=0.99\n",
    "    )\n",
    "delq_suite.add_expectation(region_expectation)\n",
    "\n",
    "# Expecation 2: Columns which should not be null \n",
    "not_null_columns = [\"REGION\", \"CERTNUM\",\"DTAPPREC\"]\n",
    "for column in not_null_columns:\n",
    "    expectation_name = f\"not_null_expectation_{column}\"\n",
    "    expectation_name = gx.expectations.ExpectColumnValuesToNotBeNull(\n",
    "        column=column,\n",
    "        result_format=\"COMPLETE\",\n",
    "        mostly=0.99\n",
    "    )\n",
    "    delq_suite.add_expectation(expectation_name)\n",
    "\n",
    "# Expecation 3: Columns which should be not null with a condition \n",
    "condition_columns = [\"CURRENT_OUTSTANDING_BAL_AMT\", \"CPA_REMAINING_AMORTIZATION\"]\n",
    "for column in condition_columns:\n",
    "    expectation_name = f\"not_null_condition_expectation_{column}\"\n",
    "    expectation_name = gx.expectations.ExpectColumnValuesToNotBeNull(\n",
    "        column=column,\n",
    "        result_format=\"COMPLETE\",\n",
    "        mostly=0.99,\n",
    "        row_condition= 'CURRENT_OUTSTANDING_BAL_AMT > 0'\n",
    "    )\n",
    "    delq_suite.add_expectation(expectation_name)\n",
    "\n",
    "# Expecation 4: Column 'CURRENT_OUTSTANDING_BAL_AMT' should be greater than 0 when 'CPA_REMAINING_AMORTIZATION' is greater than 0\n",
    "outstanding_condition_expectation = gx.expectations.ExpectColumnValuesToNotBeNull(\n",
    "        column=\"CURRENT_OUTSTANDING_BAL_AMT\",\n",
    "        result_format=\"COMPLETE\",\n",
    "        mostly=0.99,\n",
    "        row_condition='CPA_REMAINING_AMORTIZATION > 0'\n",
    "    )\n",
    "delq_suite.add_expectation(outstanding_condition_expectation)\n",
    "\n",
    "# Expecation 5: Outstanding balance should be less than or equal to 1500000\n",
    "outstanding_balance_expectation = gx.expectations.ExpectColumnValuesToBeBetween(\n",
    "        column=\"CURRENT_OUTSTANDING_BAL_AMT\",\n",
    "        min_value=  0,\n",
    "        strict_min = True,\n",
    "        max_value=1500000,\n",
    "        result_format=\"COMPLETE\",\n",
    "        mostly=0.99\n",
    "    )"
   ]
  },
  {
   "cell_type": "code",
   "execution_count": 31,
   "id": "45c1a63e",
   "metadata": {},
   "outputs": [
    {
     "data": {
      "text/plain": [
       "[ExpectColumnValuesToBeInSet(id='028de4d7-b367-445b-844b-470545b01b24', meta=None, notes=None, result_format=<ResultFormat.COMPLETE: 'COMPLETE'>, description=None, catch_exceptions=True, rendered_content=None, windows=None, batch_id=None, column='REGION', mostly=0.99, row_condition=None, condition_parser='pandas', value_set=['GTA', 'PACIFIC', 'ATLANTIC', 'PRAIRIES', 'QUEBEC', 'ONTARIO', 'ALBERTA']),\n",
       " ExpectColumnValuesToNotBeNull(id='bf9fffdb-2abc-42ef-9158-253490f6900b', meta=None, notes=None, result_format=<ResultFormat.COMPLETE: 'COMPLETE'>, description=None, catch_exceptions=True, rendered_content=None, windows=None, batch_id=None, column='REGION', mostly=0.99, row_condition=None, condition_parser='pandas'),\n",
       " ExpectColumnValuesToNotBeNull(id='8235255c-4aff-4671-8c84-3c8ff55c4180', meta=None, notes=None, result_format=<ResultFormat.COMPLETE: 'COMPLETE'>, description=None, catch_exceptions=True, rendered_content=None, windows=None, batch_id=None, column='CERTNUM', mostly=0.99, row_condition=None, condition_parser='pandas'),\n",
       " ExpectColumnValuesToNotBeNull(id='00e68719-e04b-4be1-9978-174883c19905', meta=None, notes=None, result_format=<ResultFormat.COMPLETE: 'COMPLETE'>, description=None, catch_exceptions=True, rendered_content=None, windows=None, batch_id=None, column='DTAPPREC', mostly=0.99, row_condition=None, condition_parser='pandas'),\n",
       " ExpectColumnValuesToNotBeNull(id='a697d456-1b3e-447e-80c5-352845e55020', meta=None, notes=None, result_format=<ResultFormat.COMPLETE: 'COMPLETE'>, description=None, catch_exceptions=True, rendered_content=None, windows=None, batch_id=None, column='CURRENT_OUTSTANDING_BAL_AMT', mostly=0.99, row_condition='CURRENT_OUTSTANDING_BAL_AMT > 0', condition_parser='pandas'),\n",
       " ExpectColumnValuesToNotBeNull(id='0dc69e74-9de6-4633-a109-4b272a31f989', meta=None, notes=None, result_format=<ResultFormat.COMPLETE: 'COMPLETE'>, description=None, catch_exceptions=True, rendered_content=None, windows=None, batch_id=None, column='CPA_REMAINING_AMORTIZATION', mostly=0.99, row_condition='CURRENT_OUTSTANDING_BAL_AMT > 0', condition_parser='pandas'),\n",
       " ExpectColumnValuesToNotBeNull(id='fcbc3833-d158-44f0-b55f-108a5669c9e2', meta=None, notes=None, result_format=<ResultFormat.COMPLETE: 'COMPLETE'>, description=None, catch_exceptions=True, rendered_content=None, windows=None, batch_id=None, column='CURRENT_OUTSTANDING_BAL_AMT', mostly=0.99, row_condition='CPA_REMAINING_AMORTIZATION > 0', condition_parser='pandas')]"
      ]
     },
     "execution_count": 31,
     "metadata": {},
     "output_type": "execute_result"
    }
   ],
   "source": [
    "delq_suite.expectations"
   ]
  },
  {
   "cell_type": "code",
   "execution_count": 23,
   "id": "2edd944f",
   "metadata": {},
   "outputs": [
    {
     "data": {
      "text/plain": [
       "ValidationDefinition(name='delq_history_validation', data=BatchDefinition(id=UUID('8a63d1e7-333a-41ed-811c-e0a568265ea4'), name='delq_history_batch', partitioner=None), suite={\n",
       "  \"name\": \"delq_history_quality_suite\",\n",
       "  \"id\": \"72ea19b8-992e-4ede-9ef9-dd327ee9b6a0\",\n",
       "  \"expectations\": [\n",
       "    {\n",
       "      \"type\": \"expect_column_values_to_be_in_set\",\n",
       "      \"kwargs\": {\n",
       "        \"result_format\": \"COMPLETE\",\n",
       "        \"column\": \"REGION\",\n",
       "        \"mostly\": 0.99,\n",
       "        \"value_set\": [\n",
       "          \"GTA\",\n",
       "          \"PACIFIC\",\n",
       "          \"ATLANTIC\",\n",
       "          \"PRAIRIES\",\n",
       "          \"QUEBEC\",\n",
       "          \"ONTARIO\",\n",
       "          \"ALBERTA\"\n",
       "        ]\n",
       "      },\n",
       "      \"meta\": {},\n",
       "      \"id\": \"028de4d7-b367-445b-844b-470545b01b24\"\n",
       "    },\n",
       "    {\n",
       "      \"type\": \"expect_column_values_to_not_be_null\",\n",
       "      \"kwargs\": {\n",
       "        \"result_format\": \"COMPLETE\",\n",
       "        \"column\": \"REGION\",\n",
       "        \"mostly\": 0.99\n",
       "      },\n",
       "      \"meta\": {},\n",
       "      \"id\": \"bf9fffdb-2abc-42ef-9158-253490f6900b\"\n",
       "    },\n",
       "    {\n",
       "      \"type\": \"expect_column_values_to_not_be_null\",\n",
       "      \"kwargs\": {\n",
       "        \"result_format\": \"COMPLETE\",\n",
       "        \"column\": \"CERTNUM\",\n",
       "        \"mostly\": 0.99\n",
       "      },\n",
       "      \"meta\": {},\n",
       "      \"id\": \"8235255c-4aff-4671-8c84-3c8ff55c4180\"\n",
       "    },\n",
       "    {\n",
       "      \"type\": \"expect_column_values_to_not_be_null\",\n",
       "      \"kwargs\": {\n",
       "        \"result_format\": \"COMPLETE\",\n",
       "        \"column\": \"DTAPPREC\",\n",
       "        \"mostly\": 0.99\n",
       "      },\n",
       "      \"meta\": {},\n",
       "      \"id\": \"00e68719-e04b-4be1-9978-174883c19905\"\n",
       "    },\n",
       "    {\n",
       "      \"type\": \"expect_column_values_to_not_be_null\",\n",
       "      \"kwargs\": {\n",
       "        \"result_format\": \"COMPLETE\",\n",
       "        \"column\": \"CURRENT_OUTSTANDING_BAL_AMT\",\n",
       "        \"mostly\": 0.99,\n",
       "        \"row_condition\": \"CURRENT_OUTSTANDING_BAL_AMT > 0\"\n",
       "      },\n",
       "      \"meta\": {},\n",
       "      \"id\": \"a697d456-1b3e-447e-80c5-352845e55020\"\n",
       "    },\n",
       "    {\n",
       "      \"type\": \"expect_column_values_to_not_be_null\",\n",
       "      \"kwargs\": {\n",
       "        \"result_format\": \"COMPLETE\",\n",
       "        \"column\": \"CPA_REMAINING_AMORTIZATION\",\n",
       "        \"mostly\": 0.99,\n",
       "        \"row_condition\": \"CURRENT_OUTSTANDING_BAL_AMT > 0\"\n",
       "      },\n",
       "      \"meta\": {},\n",
       "      \"id\": \"0dc69e74-9de6-4633-a109-4b272a31f989\"\n",
       "    },\n",
       "    {\n",
       "      \"type\": \"expect_column_values_to_not_be_null\",\n",
       "      \"kwargs\": {\n",
       "        \"result_format\": \"COMPLETE\",\n",
       "        \"column\": \"CURRENT_OUTSTANDING_BAL_AMT\",\n",
       "        \"mostly\": 0.99,\n",
       "        \"row_condition\": \"CPA_REMAINING_AMORTIZATION > 0\"\n",
       "      },\n",
       "      \"meta\": {},\n",
       "      \"id\": \"fcbc3833-d158-44f0-b55f-108a5669c9e2\"\n",
       "    }\n",
       "  ],\n",
       "  \"meta\": {\n",
       "    \"great_expectations_version\": \"1.5.5\"\n",
       "  },\n",
       "  \"notes\": null\n",
       "}, id='a4120793-8ac0-4754-81e3-566a7ab68c24')"
      ]
     },
     "execution_count": 23,
     "metadata": {},
     "output_type": "execute_result"
    }
   ],
   "source": [
    "validation_definition = gx.ValidationDefinition(\n",
    "    name=validation_definition_name,\n",
    "    suite=delq_suite,\n",
    "    data =batch_definition)\n",
    "\n",
    "context.validation_definitions.add(validation_definition)"
   ]
  },
  {
   "cell_type": "code",
   "execution_count": 24,
   "id": "2c933458",
   "metadata": {},
   "outputs": [
    {
     "data": {
      "text/plain": [
       "Checkpoint(name='delq_history_checkpoint', validation_definitions=[ValidationDefinition(name='delq_history_validation', data=BatchDefinition(id=UUID('8a63d1e7-333a-41ed-811c-e0a568265ea4'), name='delq_history_batch', partitioner=None), suite={\n",
       "  \"name\": \"delq_history_quality_suite\",\n",
       "  \"id\": \"72ea19b8-992e-4ede-9ef9-dd327ee9b6a0\",\n",
       "  \"expectations\": [\n",
       "    {\n",
       "      \"type\": \"expect_column_values_to_be_in_set\",\n",
       "      \"kwargs\": {\n",
       "        \"result_format\": \"COMPLETE\",\n",
       "        \"column\": \"REGION\",\n",
       "        \"mostly\": 0.99,\n",
       "        \"value_set\": [\n",
       "          \"GTA\",\n",
       "          \"PACIFIC\",\n",
       "          \"ATLANTIC\",\n",
       "          \"PRAIRIES\",\n",
       "          \"QUEBEC\",\n",
       "          \"ONTARIO\",\n",
       "          \"ALBERTA\"\n",
       "        ]\n",
       "      },\n",
       "      \"meta\": {},\n",
       "      \"id\": \"028de4d7-b367-445b-844b-470545b01b24\"\n",
       "    },\n",
       "    {\n",
       "      \"type\": \"expect_column_values_to_not_be_null\",\n",
       "      \"kwargs\": {\n",
       "        \"result_format\": \"COMPLETE\",\n",
       "        \"column\": \"REGION\",\n",
       "        \"mostly\": 0.99\n",
       "      },\n",
       "      \"meta\": {},\n",
       "      \"id\": \"bf9fffdb-2abc-42ef-9158-253490f6900b\"\n",
       "    },\n",
       "    {\n",
       "      \"type\": \"expect_column_values_to_not_be_null\",\n",
       "      \"kwargs\": {\n",
       "        \"result_format\": \"COMPLETE\",\n",
       "        \"column\": \"CERTNUM\",\n",
       "        \"mostly\": 0.99\n",
       "      },\n",
       "      \"meta\": {},\n",
       "      \"id\": \"8235255c-4aff-4671-8c84-3c8ff55c4180\"\n",
       "    },\n",
       "    {\n",
       "      \"type\": \"expect_column_values_to_not_be_null\",\n",
       "      \"kwargs\": {\n",
       "        \"result_format\": \"COMPLETE\",\n",
       "        \"column\": \"DTAPPREC\",\n",
       "        \"mostly\": 0.99\n",
       "      },\n",
       "      \"meta\": {},\n",
       "      \"id\": \"00e68719-e04b-4be1-9978-174883c19905\"\n",
       "    },\n",
       "    {\n",
       "      \"type\": \"expect_column_values_to_not_be_null\",\n",
       "      \"kwargs\": {\n",
       "        \"result_format\": \"COMPLETE\",\n",
       "        \"column\": \"CURRENT_OUTSTANDING_BAL_AMT\",\n",
       "        \"mostly\": 0.99,\n",
       "        \"row_condition\": \"CURRENT_OUTSTANDING_BAL_AMT > 0\"\n",
       "      },\n",
       "      \"meta\": {},\n",
       "      \"id\": \"a697d456-1b3e-447e-80c5-352845e55020\"\n",
       "    },\n",
       "    {\n",
       "      \"type\": \"expect_column_values_to_not_be_null\",\n",
       "      \"kwargs\": {\n",
       "        \"result_format\": \"COMPLETE\",\n",
       "        \"column\": \"CPA_REMAINING_AMORTIZATION\",\n",
       "        \"mostly\": 0.99,\n",
       "        \"row_condition\": \"CURRENT_OUTSTANDING_BAL_AMT > 0\"\n",
       "      },\n",
       "      \"meta\": {},\n",
       "      \"id\": \"0dc69e74-9de6-4633-a109-4b272a31f989\"\n",
       "    },\n",
       "    {\n",
       "      \"type\": \"expect_column_values_to_not_be_null\",\n",
       "      \"kwargs\": {\n",
       "        \"result_format\": \"COMPLETE\",\n",
       "        \"column\": \"CURRENT_OUTSTANDING_BAL_AMT\",\n",
       "        \"mostly\": 0.99,\n",
       "        \"row_condition\": \"CPA_REMAINING_AMORTIZATION > 0\"\n",
       "      },\n",
       "      \"meta\": {},\n",
       "      \"id\": \"fcbc3833-d158-44f0-b55f-108a5669c9e2\"\n",
       "    }\n",
       "  ],\n",
       "  \"meta\": {\n",
       "    \"great_expectations_version\": \"1.5.5\"\n",
       "  },\n",
       "  \"notes\": null\n",
       "}, id='a4120793-8ac0-4754-81e3-566a7ab68c24')], actions=[UpdateDataDocsAction(type='update_data_docs', name='Update Data Docs for delq history', site_names=[])], result_format={'result_format': 'COMPLETE'}, id='fb77f892-3b74-4d33-bcef-fcade7229b8c')"
      ]
     },
     "execution_count": 24,
     "metadata": {},
     "output_type": "execute_result"
    }
   ],
   "source": [
    "# Specifying the action to take when the validation fails\n",
    "action_list = [UpdateDataDocsAction(\n",
    "    name=\"Update Data Docs for delq history\",\n",
    ")]\n",
    "checkpoint = gx.Checkpoint(\n",
    "    name=checkpoint_name,\n",
    "    validation_definitions=[validation_definition],\n",
    "    actions=action_list,\n",
    "    result_format= {\"result_format\": \"COMPLETE\"})\n",
    "\n",
    "context.checkpoints.add(checkpoint)\n"
   ]
  },
  {
   "cell_type": "code",
   "execution_count": 33,
   "id": "273fda13",
   "metadata": {},
   "outputs": [
    {
     "name": "stderr",
     "output_type": "stream",
     "text": [
      "Calculating Metrics: 100%|██████████| 49/49 [00:06<00:00,  7.46it/s]\n"
     ]
    },
    {
     "name": "stdout",
     "output_type": "stream",
     "text": [
      "Result of the run: True\n"
     ]
    }
   ],
   "source": [
    "# Running the checkpoint\n",
    "checkpoint_result = checkpoint.run(run_id=run_id, batch_parameters=batch_parameters)\n",
    "\n",
    "# Displaying the result of the checkpoint run\n",
    "print(f\"Result of the run: {checkpoint_result.success}\")"
   ]
  },
  {
   "cell_type": "code",
   "execution_count": 30,
   "id": "f425fce0",
   "metadata": {},
   "outputs": [],
   "source": [
    "for exp in delq_suite.expectations:\n",
    "    exp.condition_parser= \"pandas\"\n",
    "delq_suite.save()"
   ]
  },
  {
   "cell_type": "code",
   "execution_count": null,
   "id": "55cbab9c",
   "metadata": {},
   "outputs": [],
   "source": []
  }
 ],
 "metadata": {
  "kernelspec": {
   "display_name": ".venv",
   "language": "python",
   "name": "python3"
  },
  "language_info": {
   "codemirror_mode": {
    "name": "ipython",
    "version": 3
   },
   "file_extension": ".py",
   "mimetype": "text/x-python",
   "name": "python",
   "nbconvert_exporter": "python",
   "pygments_lexer": "ipython3",
   "version": "3.9.6"
  }
 },
 "nbformat": 4,
 "nbformat_minor": 5
}
