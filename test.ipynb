{
 "cells": [
  {
   "cell_type": "code",
   "execution_count": 24,
   "id": "bbd96dc6",
   "metadata": {},
   "outputs": [],
   "source": [
    "import pandas as pd\n",
    "import numpy as np\n",
    "import great_expectations as gx\n",
    "from great_expectations.checkpoint.actions import UpdateDataDocsAction"
   ]
  },
  {
   "cell_type": "code",
   "execution_count": 25,
   "id": "803792f1",
   "metadata": {},
   "outputs": [],
   "source": [
    "df =  pd.read_csv(\"Test_data.csv\")"
   ]
  },
  {
   "cell_type": "code",
   "execution_count": 73,
   "id": "4e4a2e69",
   "metadata": {},
   "outputs": [
    {
     "name": "stderr",
     "output_type": "stream",
     "text": [
      "error uploading: HTTPSConnectionPool(host='posthog.greatexpectations.io', port=443): Max retries exceeded with url: /batch/ (Caused by SSLError(SSLCertVerificationError(1, '[SSL: CERTIFICATE_VERIFY_FAILED] certificate verify failed: unable to get local issuer certificate (_ssl.c:1000)')))\n"
     ]
    }
   ],
   "source": [
    "context = gx.get_context(mode=\"file\")"
   ]
  },
  {
   "cell_type": "code",
   "execution_count": 62,
   "id": "8c8064a8",
   "metadata": {},
   "outputs": [],
   "source": [
    "data_asset_name = \"my_test_asset\"\n",
    "data_source_name = \"my_test_source\"\n",
    "batch_definition_name = \"my_batch_definition\"\n",
    "definition_name = \"my_validation_definition\"\n",
    "checkpoint_name = \"my_checkpoint\""
   ]
  },
  {
   "cell_type": "code",
   "execution_count": 28,
   "id": "9f3e744b",
   "metadata": {},
   "outputs": [
    {
     "name": "stderr",
     "output_type": "stream",
     "text": [
      "error uploading: HTTPSConnectionPool(host='posthog.greatexpectations.io', port=443): Max retries exceeded with url: /batch/ (Caused by SSLError(SSLCertVerificationError(1, '[SSL: CERTIFICATE_VERIFY_FAILED] certificate verify failed: unable to get local issuer certificate (_ssl.c:1000)')))\n"
     ]
    }
   ],
   "source": [
    "\n",
    "data_source = context.data_sources.add_pandas(name=data_source_name)\n",
    "\n",
    "data_asset = data_source.add_dataframe_asset(name=data_asset_name)\n",
    "\n",
    "batch_definition = data_asset.add_batch_definition_whole_dataframe(\n",
    "    batch_definition_name\n",
    ")\n"
   ]
  },
  {
   "cell_type": "code",
   "execution_count": 29,
   "id": "76c23720",
   "metadata": {},
   "outputs": [],
   "source": [
    "batch_definition = (\n",
    "    context.data_sources.get(data_source_name)\n",
    "    .get_asset(data_asset_name)\n",
    "    .get_batch_definition(batch_definition_name)\n",
    ")"
   ]
  },
  {
   "cell_type": "code",
   "execution_count": 30,
   "id": "2aad430f",
   "metadata": {},
   "outputs": [],
   "source": [
    "batch_parameters = {\"dataframe\": df}"
   ]
  },
  {
   "cell_type": "code",
   "execution_count": null,
   "id": "0dc09d42",
   "metadata": {},
   "outputs": [],
   "source": [
    "print(type(context).__name__)"
   ]
  },
  {
   "cell_type": "code",
   "execution_count": 31,
   "id": "163c9bf7",
   "metadata": {},
   "outputs": [
    {
     "name": "stdout",
     "output_type": "stream",
     "text": [
      "\n",
      "Configured Data Source: my_test_source\n",
      "Configured Data Asset: my_test_asset\n",
      "Configured Batch Definition: my_batch_definition\n"
     ]
    }
   ],
   "source": [
    "print(f\"\\nConfigured Data Source: {data_source.name}\")\n",
    "print(f\"Configured Data Asset: {data_asset.name}\")\n",
    "print(f\"Configured Batch Definition: {batch_definition.name}\")"
   ]
  },
  {
   "cell_type": "code",
   "execution_count": null,
   "id": "c6b98489",
   "metadata": {},
   "outputs": [],
   "source": [
    "print(context)"
   ]
  },
  {
   "cell_type": "code",
   "execution_count": 32,
   "id": "4c14754b",
   "metadata": {},
   "outputs": [],
   "source": [
    "# Create an Expectation Suite\n",
    "suite_name = \"daily_delq-quality_suite\"\n",
    "delq_suite = gx.ExpectationSuite(name=suite_name)"
   ]
  },
  {
   "cell_type": "code",
   "execution_count": 33,
   "id": "1c691869",
   "metadata": {},
   "outputs": [
    {
     "data": {
      "text/plain": [
       "{\n",
       "  \"name\": \"daily_delq-quality_suite\",\n",
       "  \"id\": \"92aacbee-22dc-47be-a51f-5323bf8edea3\",\n",
       "  \"expectations\": [],\n",
       "  \"meta\": {\n",
       "    \"great_expectations_version\": \"1.5.5\"\n",
       "  },\n",
       "  \"notes\": null\n",
       "}"
      ]
     },
     "execution_count": 33,
     "metadata": {},
     "output_type": "execute_result"
    }
   ],
   "source": [
    "context.suites.add(delq_suite)"
   ]
  },
  {
   "cell_type": "code",
   "execution_count": 34,
   "id": "99ac5c37",
   "metadata": {},
   "outputs": [],
   "source": [
    "region_set = set(df['REGION'].value_counts().index)"
   ]
  },
  {
   "cell_type": "code",
   "execution_count": 35,
   "id": "89c7d13a",
   "metadata": {},
   "outputs": [
    {
     "data": {
      "text/plain": [
       "{'ALBERTA',\n",
       " 'ATLANTIC',\n",
       " 'GTA',\n",
       " 'ONTARIO',\n",
       " 'OTHER',\n",
       " 'PACIFIC',\n",
       " 'PRAIRIES',\n",
       " 'QUEBEC'}"
      ]
     },
     "execution_count": 35,
     "metadata": {},
     "output_type": "execute_result"
    }
   ],
   "source": [
    "region_set"
   ]
  },
  {
   "cell_type": "code",
   "execution_count": 36,
   "id": "20bab394",
   "metadata": {},
   "outputs": [],
   "source": [
    "region_set.remove(\"OTHER\")"
   ]
  },
  {
   "cell_type": "code",
   "execution_count": 37,
   "id": "88abb8e8",
   "metadata": {},
   "outputs": [
    {
     "data": {
      "text/plain": [
       "Index(['CERTNUM', 'ORGNUM', 'ABBRNAME', 'BLTV', 'RATEIND', 'CLTV', 'SECMFLAG',\n",
       "       'REGION', 'Sum_TUBUREAU', 'Sum_EQFAXBR', 'Sum_TUBUREAU_COUNT',\n",
       "       'Sum_TUEQFAXBR_COUNT', 'AVERAGE SCORE', 'SCORE BUCKETS', 'LOB',\n",
       "       'MTGTERM', 'DTPRINT', 'LENDERSC', 'INSURAMT', 'DTEFFECT', 'DTAPPRS',\n",
       "       'DTAPPREC', 'RRMCITY', 'SRCOFBUS', 'BORINCOM', 'AMORMTHS', 'SALESPR',\n",
       "       'LOANPURP', 'GDS', 'TDS', 'GDSR', 'TDSR', 'CLOANINT', 'PRD_COMP_GDS',\n",
       "       'PRD_COMP_TDS', 'PRD_COMP_GDSR', 'PRD_COMP_TDSR',\n",
       "       'PRD_COMP_QUAL_INT_RATE', 'PROVINCE', 'PROPTYPE', 'BORSELF', 'BORAGE',\n",
       "       'PREMORIG', 'LOANAMT', 'NEWEXIST', 'PROP_AVM_YEAR_BUILD', 'PROPAGE',\n",
       "       'AVMVAR', 'FRGNBORR', 'Sum_BOR_COUNT', 'FSACODE', 'POD_OMNI_RURAL_IND',\n",
       "       'PRD_GIFT', 'OTHREQTY', 'TIME_MTH_SID', 'D_ind',\n",
       "       'FIRST_PAYMENT_MISSED_DATE', 'GNW_APPLICATION_NUMBER',\n",
       "       'CURRENT_OUTSTANDING_BAL_AMT', 'CURRENT_LOAN_STAGE', 'INT_RATE_TYPE',\n",
       "       'DETAIL_LENDER_PTY_ALIAS', 'CURRENT_TERM_EXPIRY_DATE',\n",
       "       'REMAINING_AMORT', 'REMAINING_INT_TERM', 'LAST_PAYMENT_DATE',\n",
       "       'CURRENT_TERM_LENGTH', 'CURRENT_LOAN_RATE', 'CURRENT_PAY_AMT',\n",
       "       'CURRENT_PAY_FREQ', 'POLICY_SID', 'BVA_PROPERTY_VALUE',\n",
       "       'CPA_REMAINING_AMORTIZATION', 'BVA_UNREPORTED_LENDER_FLAG', 'BVA_LTV',\n",
       "       'CERTNUM COUNT', 'RATETYPE', 'FIXED_RATEIND', 'CRD_SCORE_CAPITAL',\n",
       "       'PRODUCT_CODE', 'SPECIAL_PROGRAM_CODE', 'DateTime_Out',\n",
       "       'Previous Month End', '12 Months Ago- First ', '24 Months Ago',\n",
       "       '12 Months Ago -Last', '1-12 Flag', '13-24 Flag', 'NUM_BOR',\n",
       "       'URBAN_RURAL', 'COMP TDSR >40 (#)', 'COMP GDSR >35 (#)', 'GIFT (#)'],\n",
       "      dtype='object')"
      ]
     },
     "execution_count": 37,
     "metadata": {},
     "output_type": "execute_result"
    }
   ],
   "source": [
    "df.columns"
   ]
  },
  {
   "cell_type": "code",
   "execution_count": null,
   "id": "de560d9c",
   "metadata": {},
   "outputs": [
    {
     "data": {
      "text/plain": [
       "ExpectColumnValuesToBeInSet(id='90004e20-2e55-4893-81ac-34f1be4c5da5', meta=None, notes=None, result_format=<ResultFormat.COMPLETE: 'COMPLETE'>, description=None, catch_exceptions=True, rendered_content=None, windows=None, batch_id=None, column='REGION', mostly=1, row_condition=None, condition_parser=None, value_set=['GTA', 'QUEBEC', 'PRAIRIES', 'PACIFIC', 'ALBERTA', 'ONTARIO', 'ATLANTIC'])"
      ]
     },
     "execution_count": 38,
     "metadata": {},
     "output_type": "execute_result"
    },
    {
     "name": "stderr",
     "output_type": "stream",
     "text": [
      "error uploading: HTTPSConnectionPool(host='posthog.greatexpectations.io', port=443): Max retries exceeded with url: /batch/ (Caused by SSLError(SSLCertVerificationError(1, '[SSL: CERTIFICATE_VERIFY_FAILED] certificate verify failed: unable to get local issuer certificate (_ssl.c:1000)')))\n",
      "error uploading: HTTPSConnectionPool(host='posthog.greatexpectations.io', port=443): Max retries exceeded with url: /batch/ (Caused by SSLError(SSLCertVerificationError(1, '[SSL: CERTIFICATE_VERIFY_FAILED] certificate verify failed: unable to get local issuer certificate (_ssl.c:1000)')))\n"
     ]
    }
   ],
   "source": [
    "region_expectation = gx.expectations.ExpectColumnValuesToBeInSet( \n",
    "        column=\"REGION\",\n",
    "        value_set=region_set,\n",
    "        result_format=\"COMPLETE\"\n",
    "    )\n",
    "delq_suite.add_expectation(region_expectation\n",
    "    \n",
    ")"
   ]
  },
  {
   "cell_type": "code",
   "execution_count": 55,
   "id": "6e2abf56",
   "metadata": {},
   "outputs": [
    {
     "name": "stderr",
     "output_type": "stream",
     "text": [
      "error uploading: HTTPSConnectionPool(host='posthog.greatexpectations.io', port=443): Max retries exceeded with url: /batch/ (Caused by SSLError(SSLCertVerificationError(1, '[SSL: CERTIFICATE_VERIFY_FAILED] certificate verify failed: unable to get local issuer certificate (_ssl.c:1000)')))\n"
     ]
    }
   ],
   "source": [
    "region_expectation.mostly = 0.99\n",
    "region_expectation.save()"
   ]
  },
  {
   "cell_type": "code",
   "execution_count": 39,
   "id": "6925453e",
   "metadata": {},
   "outputs": [
    {
     "data": {
      "text/plain": [
       "ExpectColumnValuesToNotBeNull(id='6c5ea5ad-227f-4de1-8cb8-1b953b938ae1', meta=None, notes=None, result_format=<ResultFormat.COMPLETE: 'COMPLETE'>, description=None, catch_exceptions=True, rendered_content=None, windows=None, batch_id=None, column='CERTNUM', mostly=1, row_condition=None, condition_parser=None)"
      ]
     },
     "execution_count": 39,
     "metadata": {},
     "output_type": "execute_result"
    }
   ],
   "source": [
    "delq_suite.add_expectation(\n",
    "    gx.expectations.ExpectColumnValuesToNotBeNull(\n",
    "        column=\"REGION\",  # Correct: single string for the column name\n",
    "        result_format=\"COMPLETE\"\n",
    "    )\n",
    ")\n",
    "\n",
    "# Add expectation for 'CERTNUM' column\n",
    "delq_suite.add_expectation(\n",
    "    gx.expectations.ExpectColumnValuesToNotBeNull(\n",
    "        column=\"CERTNUM\",  # Correct: single string for the column name\n",
    "        result_format=\"COMPLETE\"\n",
    "    )\n",
    ")"
   ]
  },
  {
   "cell_type": "code",
   "execution_count": 40,
   "id": "31f2f1a9",
   "metadata": {},
   "outputs": [
    {
     "data": {
      "text/plain": [
       "ExpectColumnValuesToBeBetween(id='93ca2687-a5ec-443e-b316-d625bdbaa9b0', meta=None, notes=None, result_format=<ResultFormat.COMPLETE: 'COMPLETE'>, description=None, catch_exceptions=True, rendered_content=None, windows=None, batch_id=None, column='CURRENT_OUTSTANDING_BAL_AMT', mostly=1, row_condition=None, condition_parser=None, min_value=None, max_value=1500000.0, strict_min=False, strict_max=False)"
      ]
     },
     "execution_count": 40,
     "metadata": {},
     "output_type": "execute_result"
    },
    {
     "name": "stderr",
     "output_type": "stream",
     "text": [
      "error uploading: HTTPSConnectionPool(host='posthog.greatexpectations.io', port=443): Max retries exceeded with url: /batch/ (Caused by SSLError(SSLCertVerificationError(1, '[SSL: CERTIFICATE_VERIFY_FAILED] certificate verify failed: unable to get local issuer certificate (_ssl.c:1000)')))\n"
     ]
    }
   ],
   "source": [
    "delq_suite.add_expectation(\n",
    "    gx.expectations.ExpectColumnValuesToBeBetween(\n",
    "        column=\"CURRENT_OUTSTANDING_BAL_AMT\",\n",
    "        min_value=None, # This indicates no lower bound check\n",
    "        max_value=1500000,\n",
    "        result_format=\"COMPLETE\"\n",
    "    )\n",
    ")"
   ]
  },
  {
   "cell_type": "code",
   "execution_count": 41,
   "id": "a6a4ba79",
   "metadata": {},
   "outputs": [],
   "source": [
    "delq_validation_definition = gx.ValidationDefinition(\n",
    "    data= batch_definition,\n",
    "    suite=delq_suite,\n",
    "    name=\"delq_validation_definition\")"
   ]
  },
  {
   "cell_type": "code",
   "execution_count": 42,
   "id": "c8d72e0d",
   "metadata": {},
   "outputs": [
    {
     "name": "stderr",
     "output_type": "stream",
     "text": [
      "error uploading: HTTPSConnectionPool(host='posthog.greatexpectations.io', port=443): Max retries exceeded with url: /batch/ (Caused by SSLError(SSLCertVerificationError(1, '[SSL: CERTIFICATE_VERIFY_FAILED] certificate verify failed: unable to get local issuer certificate (_ssl.c:1000)')))\n"
     ]
    }
   ],
   "source": [
    "batch = batch_definition.get_batch(batch_parameters=batch_parameters)"
   ]
  },
  {
   "cell_type": "code",
   "execution_count": 43,
   "id": "bd7bccb0",
   "metadata": {},
   "outputs": [],
   "source": [
    "expectation_suite = context.suites.get(name=\"daily_delq-quality_suite\")"
   ]
  },
  {
   "cell_type": "code",
   "execution_count": 44,
   "id": "2292abf9",
   "metadata": {},
   "outputs": [],
   "source": [
    "batch_definition = (\n",
    "    context.data_sources.get(data_source_name)\n",
    "    .get_asset(data_asset_name)\n",
    "    .get_batch_definition(batch_definition_name)\n",
    ")"
   ]
  },
  {
   "cell_type": "code",
   "execution_count": 45,
   "id": "f81039c3",
   "metadata": {},
   "outputs": [],
   "source": [
    "\n",
    "validation_definition = gx.ValidationDefinition(\n",
    "    data=batch_definition, suite=expectation_suite, name=definition_name\n",
    ")"
   ]
  },
  {
   "cell_type": "code",
   "execution_count": 46,
   "id": "c7c568f7",
   "metadata": {},
   "outputs": [],
   "source": [
    "\n",
    "\n",
    "\n",
    "validation_definition = context.validation_definitions.add(validation_definition)"
   ]
  },
  {
   "cell_type": "code",
   "execution_count": 58,
   "id": "26c27638",
   "metadata": {},
   "outputs": [],
   "source": [
    "#getting validation definition\n",
    "validation_definition = context.validation_definitions.get(name=definition_name)"
   ]
  },
  {
   "cell_type": "code",
   "execution_count": 71,
   "id": "18c7b1a4",
   "metadata": {},
   "outputs": [
    {
     "name": "stderr",
     "output_type": "stream",
     "text": [
      "Calculating Metrics: 100%|██████████| 30/30 [00:02<00:00, 12.76it/s] \n"
     ]
    }
   ],
   "source": [
    "validation_results = validation_definition.run(batch_parameters=batch_parameters)"
   ]
  },
  {
   "cell_type": "code",
   "execution_count": 72,
   "id": "df623d22",
   "metadata": {},
   "outputs": [
    {
     "name": "stdout",
     "output_type": "stream",
     "text": [
      "True\n"
     ]
    },
    {
     "name": "stderr",
     "output_type": "stream",
     "text": [
      "error uploading: HTTPSConnectionPool(host='posthog.greatexpectations.io', port=443): Max retries exceeded with url: /batch/ (Caused by SSLError(SSLCertVerificationError(1, '[SSL: CERTIFICATE_VERIFY_FAILED] certificate verify failed: unable to get local issuer certificate (_ssl.c:1000)')))\n"
     ]
    }
   ],
   "source": [
    "print(validation_results[\"success\"])"
   ]
  },
  {
   "cell_type": "code",
   "execution_count": 60,
   "id": "8fb532f5",
   "metadata": {},
   "outputs": [
    {
     "data": {
      "text/plain": [
       "{'local_site': 'file://c:\\\\Users\\\\650000337\\\\Documents\\\\Lax_dev\\\\Data_Quality_Great_Expectations\\\\gx\\\\uncommitted/data_docs/local_site/index.html'}"
      ]
     },
     "execution_count": 60,
     "metadata": {},
     "output_type": "execute_result"
    },
    {
     "name": "stderr",
     "output_type": "stream",
     "text": [
      "error uploading: HTTPSConnectionPool(host='posthog.greatexpectations.io', port=443): Max retries exceeded with url: /batch/ (Caused by SSLError(SSLCertVerificationError(1, '[SSL: CERTIFICATE_VERIFY_FAILED] certificate verify failed: unable to get local issuer certificate (_ssl.c:1000)')))\n"
     ]
    }
   ],
   "source": [
    "context.build_data_docs()"
   ]
  },
  {
   "cell_type": "code",
   "execution_count": 51,
   "id": "6ed3795d",
   "metadata": {},
   "outputs": [
    {
     "data": {
      "text/html": [
       "<div>\n",
       "<style scoped>\n",
       "    .dataframe tbody tr th:only-of-type {\n",
       "        vertical-align: middle;\n",
       "    }\n",
       "\n",
       "    .dataframe tbody tr th {\n",
       "        vertical-align: top;\n",
       "    }\n",
       "\n",
       "    .dataframe thead th {\n",
       "        text-align: right;\n",
       "    }\n",
       "</style>\n",
       "<table border=\"1\" class=\"dataframe\">\n",
       "  <thead>\n",
       "    <tr style=\"text-align: right;\">\n",
       "      <th></th>\n",
       "      <th>CERTNUM</th>\n",
       "      <th>PROVINCE</th>\n",
       "    </tr>\n",
       "  </thead>\n",
       "  <tbody>\n",
       "    <tr>\n",
       "      <th>395380</th>\n",
       "      <td>2040210350</td>\n",
       "      <td>QC</td>\n",
       "    </tr>\n",
       "  </tbody>\n",
       "</table>\n",
       "</div>"
      ],
      "text/plain": [
       "           CERTNUM PROVINCE\n",
       "395380  2040210350       QC"
      ]
     },
     "execution_count": 51,
     "metadata": {},
     "output_type": "execute_result"
    }
   ],
   "source": [
    "df[df['REGION'] == 'OTHER'][['CERTNUM','PROVINCE']]"
   ]
  },
  {
   "cell_type": "code",
   "execution_count": 56,
   "id": "e6f6d6bd",
   "metadata": {},
   "outputs": [
    {
     "data": {
      "text/plain": [
       "{\n",
       "  \"name\": \"daily_delq-quality_suite\",\n",
       "  \"id\": \"92aacbee-22dc-47be-a51f-5323bf8edea3\",\n",
       "  \"expectations\": [\n",
       "    {\n",
       "      \"type\": \"expect_column_values_to_be_in_set\",\n",
       "      \"kwargs\": {\n",
       "        \"result_format\": \"COMPLETE\",\n",
       "        \"column\": \"REGION\",\n",
       "        \"mostly\": 0.99,\n",
       "        \"value_set\": [\n",
       "          \"GTA\",\n",
       "          \"QUEBEC\",\n",
       "          \"PRAIRIES\",\n",
       "          \"PACIFIC\",\n",
       "          \"ALBERTA\",\n",
       "          \"ONTARIO\",\n",
       "          \"ATLANTIC\"\n",
       "        ]\n",
       "      },\n",
       "      \"meta\": {},\n",
       "      \"id\": \"90004e20-2e55-4893-81ac-34f1be4c5da5\"\n",
       "    },\n",
       "    {\n",
       "      \"type\": \"expect_column_values_to_not_be_null\",\n",
       "      \"kwargs\": {\n",
       "        \"result_format\": \"COMPLETE\",\n",
       "        \"column\": \"REGION\"\n",
       "      },\n",
       "      \"meta\": {},\n",
       "      \"id\": \"7f4802f2-7ef8-471b-8858-e4f8e0e9c679\"\n",
       "    },\n",
       "    {\n",
       "      \"type\": \"expect_column_values_to_not_be_null\",\n",
       "      \"kwargs\": {\n",
       "        \"result_format\": \"COMPLETE\",\n",
       "        \"column\": \"CERTNUM\"\n",
       "      },\n",
       "      \"meta\": {},\n",
       "      \"id\": \"6c5ea5ad-227f-4de1-8cb8-1b953b938ae1\"\n",
       "    },\n",
       "    {\n",
       "      \"type\": \"expect_column_values_to_be_between\",\n",
       "      \"kwargs\": {\n",
       "        \"result_format\": \"COMPLETE\",\n",
       "        \"column\": \"CURRENT_OUTSTANDING_BAL_AMT\",\n",
       "        \"max_value\": 1500000.0\n",
       "      },\n",
       "      \"meta\": {},\n",
       "      \"id\": \"93ca2687-a5ec-443e-b316-d625bdbaa9b0\"\n",
       "    }\n",
       "  ],\n",
       "  \"meta\": {\n",
       "    \"great_expectations_version\": \"1.5.5\"\n",
       "  },\n",
       "  \"notes\": null\n",
       "}"
      ]
     },
     "execution_count": 56,
     "metadata": {},
     "output_type": "execute_result"
    }
   ],
   "source": [
    "context.suites.get(name=\"daily_delq-quality_suite\")"
   ]
  },
  {
   "cell_type": "code",
   "execution_count": 61,
   "id": "302d38b1",
   "metadata": {},
   "outputs": [],
   "source": [
    "action_list = [UpdateDataDocsAction(\n",
    "    name=\"Update Data Docs\"\n",
    ")]"
   ]
  },
  {
   "cell_type": "code",
   "execution_count": 65,
   "id": "b3b853a4",
   "metadata": {},
   "outputs": [],
   "source": [
    "checkpoint = gx.Checkpoint(\n",
    "    name=checkpoint_name,\n",
    "    validation_definitions=[validation_definition],\n",
    "    actions=action_list,\n",
    "    result_format={\"result_format\": \"COMPLETE\"},\n",
    ")"
   ]
  },
  {
   "cell_type": "code",
   "execution_count": 66,
   "id": "566f2eea",
   "metadata": {},
   "outputs": [
    {
     "data": {
      "text/plain": [
       "Checkpoint(name='my_checkpoint', validation_definitions=[ValidationDefinition(name='my_validation_definition', data=BatchDefinition(id=UUID('4d4e1c7a-0f6d-475a-ac2c-0c2d1be809c5'), name='my_batch_definition', partitioner=None), suite={\n",
       "  \"name\": \"daily_delq-quality_suite\",\n",
       "  \"id\": \"92aacbee-22dc-47be-a51f-5323bf8edea3\",\n",
       "  \"expectations\": [\n",
       "    {\n",
       "      \"type\": \"expect_column_values_to_be_in_set\",\n",
       "      \"kwargs\": {\n",
       "        \"result_format\": \"COMPLETE\",\n",
       "        \"column\": \"REGION\",\n",
       "        \"mostly\": 0.99,\n",
       "        \"value_set\": [\n",
       "          \"GTA\",\n",
       "          \"QUEBEC\",\n",
       "          \"PRAIRIES\",\n",
       "          \"PACIFIC\",\n",
       "          \"ALBERTA\",\n",
       "          \"ONTARIO\",\n",
       "          \"ATLANTIC\"\n",
       "        ]\n",
       "      },\n",
       "      \"meta\": {},\n",
       "      \"id\": \"90004e20-2e55-4893-81ac-34f1be4c5da5\"\n",
       "    },\n",
       "    {\n",
       "      \"type\": \"expect_column_values_to_not_be_null\",\n",
       "      \"kwargs\": {\n",
       "        \"result_format\": \"COMPLETE\",\n",
       "        \"column\": \"REGION\"\n",
       "      },\n",
       "      \"meta\": {},\n",
       "      \"id\": \"7f4802f2-7ef8-471b-8858-e4f8e0e9c679\"\n",
       "    },\n",
       "    {\n",
       "      \"type\": \"expect_column_values_to_not_be_null\",\n",
       "      \"kwargs\": {\n",
       "        \"result_format\": \"COMPLETE\",\n",
       "        \"column\": \"CERTNUM\"\n",
       "      },\n",
       "      \"meta\": {},\n",
       "      \"id\": \"6c5ea5ad-227f-4de1-8cb8-1b953b938ae1\"\n",
       "    },\n",
       "    {\n",
       "      \"type\": \"expect_column_values_to_be_between\",\n",
       "      \"kwargs\": {\n",
       "        \"result_format\": \"COMPLETE\",\n",
       "        \"column\": \"CURRENT_OUTSTANDING_BAL_AMT\",\n",
       "        \"max_value\": 1500000.0\n",
       "      },\n",
       "      \"meta\": {},\n",
       "      \"id\": \"93ca2687-a5ec-443e-b316-d625bdbaa9b0\"\n",
       "    }\n",
       "  ],\n",
       "  \"meta\": {\n",
       "    \"great_expectations_version\": \"1.5.5\"\n",
       "  },\n",
       "  \"notes\": null\n",
       "}, id='1aed628c-ae52-43bc-86d9-779244699aa1')], actions=[UpdateDataDocsAction(type='update_data_docs', name='Update Data Docs', site_names=[])], result_format={'result_format': 'COMPLETE'}, id='295a903f-52d8-483a-9713-b0601b593ea4')"
      ]
     },
     "execution_count": 66,
     "metadata": {},
     "output_type": "execute_result"
    },
    {
     "name": "stderr",
     "output_type": "stream",
     "text": [
      "error uploading: HTTPSConnectionPool(host='posthog.greatexpectations.io', port=443): Max retries exceeded with url: /batch/ (Caused by SSLError(SSLCertVerificationError(1, '[SSL: CERTIFICATE_VERIFY_FAILED] certificate verify failed: unable to get local issuer certificate (_ssl.c:1000)')))\n"
     ]
    }
   ],
   "source": [
    "context.checkpoints.add(checkpoint)"
   ]
  },
  {
   "cell_type": "code",
   "execution_count": null,
   "id": "60b5ee20",
   "metadata": {},
   "outputs": [],
   "source": []
  },
  {
   "cell_type": "code",
   "execution_count": 69,
   "id": "66796dbb",
   "metadata": {},
   "outputs": [
    {
     "name": "stderr",
     "output_type": "stream",
     "text": [
      "Calculating Metrics: 100%|██████████| 30/30 [00:02<00:00, 12.88it/s] \n"
     ]
    }
   ],
   "source": [
    "checkpoint = context.checkpoints.get(name=checkpoint_name)\n",
    "validation_results = checkpoint.run(\n",
    "    batch_parameters=batch_parameters\n",
    ")"
   ]
  },
  {
   "cell_type": "code",
   "execution_count": null,
   "id": "9f8d0dbc",
   "metadata": {},
   "outputs": [
    {
     "ename": "TypeError",
     "evalue": "'CheckpointResult' object is not subscriptable",
     "output_type": "error",
     "traceback": [
      "\u001b[31m---------------------------------------------------------------------------\u001b[39m",
      "\u001b[31mTypeError\u001b[39m                                 Traceback (most recent call last)",
      "\u001b[36mCell\u001b[39m\u001b[36m \u001b[39m\u001b[32mIn[70]\u001b[39m\u001b[32m, line 1\u001b[39m\n\u001b[32m----> \u001b[39m\u001b[32m1\u001b[39m \u001b[38;5;28mprint\u001b[39m(\u001b[43mvalidation_results\u001b[49m\u001b[43m[\u001b[49m\u001b[33;43m\"\u001b[39;49m\u001b[33;43msuccess\u001b[39;49m\u001b[33;43m\"\u001b[39;49m\u001b[43m]\u001b[49m)\n",
      "\u001b[31mTypeError\u001b[39m: 'CheckpointResult' object is not subscriptable"
     ]
    },
    {
     "name": "stderr",
     "output_type": "stream",
     "text": [
      "error uploading: HTTPSConnectionPool(host='posthog.greatexpectations.io', port=443): Max retries exceeded with url: /batch/ (Caused by SSLError(SSLCertVerificationError(1, '[SSL: CERTIFICATE_VERIFY_FAILED] certificate verify failed: unable to get local issuer certificate (_ssl.c:1000)')))\n",
      "error uploading: HTTPSConnectionPool(host='posthog.greatexpectations.io', port=443): Max retries exceeded with url: /batch/ (Caused by SSLError(SSLCertVerificationError(1, '[SSL: CERTIFICATE_VERIFY_FAILED] certificate verify failed: unable to get local issuer certificate (_ssl.c:1000)')))\n"
     ]
    }
   ],
   "source": [
    "print(validation_results[\"success\"])"
   ]
  },
  {
   "cell_type": "code",
   "execution_count": null,
   "id": "0c01f250",
   "metadata": {},
   "outputs": [],
   "source": []
  }
 ],
 "metadata": {
  "kernelspec": {
   "display_name": ".venv",
   "language": "python",
   "name": "python3"
  },
  "language_info": {
   "codemirror_mode": {
    "name": "ipython",
    "version": 3
   },
   "file_extension": ".py",
   "mimetype": "text/x-python",
   "name": "python",
   "nbconvert_exporter": "python",
   "pygments_lexer": "ipython3",
   "version": "3.12.2"
  }
 },
 "nbformat": 4,
 "nbformat_minor": 5
}
