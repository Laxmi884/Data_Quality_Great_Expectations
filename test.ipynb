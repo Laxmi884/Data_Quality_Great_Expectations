{
 "cells": [
  {
   "cell_type": "code",
   "execution_count": 1,
   "id": "bbd96dc6",
   "metadata": {},
   "outputs": [],
   "source": [
    "import pandas as pd\n",
    "import numpy as np\n",
    "from great_expectations.core import RunIdentifier\n",
    "import great_expectations as gx\n",
    "from great_expectations.checkpoint.actions import UpdateDataDocsAction"
   ]
  },
  {
   "cell_type": "code",
   "execution_count": 2,
   "id": "803792f1",
   "metadata": {},
   "outputs": [],
   "source": [
    "df =  pd.read_csv(\"Test_data.csv\")"
   ]
  },
  {
   "cell_type": "code",
   "execution_count": 3,
   "id": "4e4a2e69",
   "metadata": {},
   "outputs": [],
   "source": [
    "context = gx.get_context(mode=\"file\")"
   ]
  },
  {
   "cell_type": "code",
   "execution_count": 4,
   "id": "8c8064a8",
   "metadata": {},
   "outputs": [],
   "source": [
    "data_asset_name = \"my_test_asset\"\n",
    "data_source_name = \"my_test_source\"\n",
    "batch_definition_name = \"my_batch_definition\"\n",
    "definition_name = \"my_validation_definition\"\n",
    "checkpoint_name = \"my_checkpoint\""
   ]
  },
  {
   "cell_type": "code",
   "execution_count": 28,
   "id": "9f3e744b",
   "metadata": {},
   "outputs": [
    {
     "name": "stderr",
     "output_type": "stream",
     "text": [
      "error uploading: HTTPSConnectionPool(host='posthog.greatexpectations.io', port=443): Max retries exceeded with url: /batch/ (Caused by SSLError(SSLCertVerificationError(1, '[SSL: CERTIFICATE_VERIFY_FAILED] certificate verify failed: unable to get local issuer certificate (_ssl.c:1000)')))\n"
     ]
    }
   ],
   "source": [
    "\n",
    "data_source = context.data_sources.add_pandas(name=data_source_name)\n",
    "\n",
    "data_asset = data_source.add_dataframe_asset(name=data_asset_name)\n",
    "\n",
    "batch_definition = data_asset.add_batch_definition_whole_dataframe(\n",
    "    batch_definition_name\n",
    ")\n"
   ]
  },
  {
   "cell_type": "code",
   "execution_count": 15,
   "id": "76c23720",
   "metadata": {},
   "outputs": [],
   "source": [
    "batch_definition = (\n",
    "    context.data_sources.get(data_source_name)\n",
    "    .get_asset(data_asset_name)\n",
    "    .get_batch_definition(batch_definition_name)\n",
    ")"
   ]
  },
  {
   "cell_type": "code",
   "execution_count": 6,
   "id": "2aad430f",
   "metadata": {},
   "outputs": [],
   "source": [
    "batch_parameters = {\"dataframe\": df}"
   ]
  },
  {
   "cell_type": "code",
   "execution_count": null,
   "id": "0dc09d42",
   "metadata": {},
   "outputs": [],
   "source": [
    "print(type(context).__name__)"
   ]
  },
  {
   "cell_type": "code",
   "execution_count": 31,
   "id": "163c9bf7",
   "metadata": {},
   "outputs": [
    {
     "name": "stdout",
     "output_type": "stream",
     "text": [
      "\n",
      "Configured Data Source: my_test_source\n",
      "Configured Data Asset: my_test_asset\n",
      "Configured Batch Definition: my_batch_definition\n"
     ]
    }
   ],
   "source": [
    "print(f\"\\nConfigured Data Source: {data_source.name}\")\n",
    "print(f\"Configured Data Asset: {data_asset.name}\")\n",
    "print(f\"Configured Batch Definition: {batch_definition.name}\")"
   ]
  },
  {
   "cell_type": "code",
   "execution_count": null,
   "id": "c6b98489",
   "metadata": {},
   "outputs": [],
   "source": [
    "print(context)"
   ]
  },
  {
   "cell_type": "code",
   "execution_count": 32,
   "id": "4c14754b",
   "metadata": {},
   "outputs": [],
   "source": [
    "# Create an Expectation Suite\n",
    "suite_name = \"daily_delq-quality_suite\"\n",
    "delq_suite = gx.ExpectationSuite(name=suite_name)"
   ]
  },
  {
   "cell_type": "code",
   "execution_count": 33,
   "id": "1c691869",
   "metadata": {},
   "outputs": [
    {
     "data": {
      "text/plain": [
       "{\n",
       "  \"name\": \"daily_delq-quality_suite\",\n",
       "  \"id\": \"92aacbee-22dc-47be-a51f-5323bf8edea3\",\n",
       "  \"expectations\": [],\n",
       "  \"meta\": {\n",
       "    \"great_expectations_version\": \"1.5.5\"\n",
       "  },\n",
       "  \"notes\": null\n",
       "}"
      ]
     },
     "execution_count": 33,
     "metadata": {},
     "output_type": "execute_result"
    }
   ],
   "source": [
    "context.suites.add(delq_suite)"
   ]
  },
  {
   "cell_type": "code",
   "execution_count": 34,
   "id": "99ac5c37",
   "metadata": {},
   "outputs": [],
   "source": [
    "region_set = set(df['REGION'].value_counts().index)"
   ]
  },
  {
   "cell_type": "code",
   "execution_count": 35,
   "id": "89c7d13a",
   "metadata": {},
   "outputs": [
    {
     "data": {
      "text/plain": [
       "{'ALBERTA',\n",
       " 'ATLANTIC',\n",
       " 'GTA',\n",
       " 'ONTARIO',\n",
       " 'OTHER',\n",
       " 'PACIFIC',\n",
       " 'PRAIRIES',\n",
       " 'QUEBEC'}"
      ]
     },
     "execution_count": 35,
     "metadata": {},
     "output_type": "execute_result"
    }
   ],
   "source": [
    "region_set"
   ]
  },
  {
   "cell_type": "code",
   "execution_count": 36,
   "id": "20bab394",
   "metadata": {},
   "outputs": [],
   "source": [
    "region_set.remove(\"OTHER\")"
   ]
  },
  {
   "cell_type": "code",
   "execution_count": 37,
   "id": "88abb8e8",
   "metadata": {},
   "outputs": [
    {
     "data": {
      "text/plain": [
       "Index(['CERTNUM', 'ORGNUM', 'ABBRNAME', 'BLTV', 'RATEIND', 'CLTV', 'SECMFLAG',\n",
       "       'REGION', 'Sum_TUBUREAU', 'Sum_EQFAXBR', 'Sum_TUBUREAU_COUNT',\n",
       "       'Sum_TUEQFAXBR_COUNT', 'AVERAGE SCORE', 'SCORE BUCKETS', 'LOB',\n",
       "       'MTGTERM', 'DTPRINT', 'LENDERSC', 'INSURAMT', 'DTEFFECT', 'DTAPPRS',\n",
       "       'DTAPPREC', 'RRMCITY', 'SRCOFBUS', 'BORINCOM', 'AMORMTHS', 'SALESPR',\n",
       "       'LOANPURP', 'GDS', 'TDS', 'GDSR', 'TDSR', 'CLOANINT', 'PRD_COMP_GDS',\n",
       "       'PRD_COMP_TDS', 'PRD_COMP_GDSR', 'PRD_COMP_TDSR',\n",
       "       'PRD_COMP_QUAL_INT_RATE', 'PROVINCE', 'PROPTYPE', 'BORSELF', 'BORAGE',\n",
       "       'PREMORIG', 'LOANAMT', 'NEWEXIST', 'PROP_AVM_YEAR_BUILD', 'PROPAGE',\n",
       "       'AVMVAR', 'FRGNBORR', 'Sum_BOR_COUNT', 'FSACODE', 'POD_OMNI_RURAL_IND',\n",
       "       'PRD_GIFT', 'OTHREQTY', 'TIME_MTH_SID', 'D_ind',\n",
       "       'FIRST_PAYMENT_MISSED_DATE', 'GNW_APPLICATION_NUMBER',\n",
       "       'CURRENT_OUTSTANDING_BAL_AMT', 'CURRENT_LOAN_STAGE', 'INT_RATE_TYPE',\n",
       "       'DETAIL_LENDER_PTY_ALIAS', 'CURRENT_TERM_EXPIRY_DATE',\n",
       "       'REMAINING_AMORT', 'REMAINING_INT_TERM', 'LAST_PAYMENT_DATE',\n",
       "       'CURRENT_TERM_LENGTH', 'CURRENT_LOAN_RATE', 'CURRENT_PAY_AMT',\n",
       "       'CURRENT_PAY_FREQ', 'POLICY_SID', 'BVA_PROPERTY_VALUE',\n",
       "       'CPA_REMAINING_AMORTIZATION', 'BVA_UNREPORTED_LENDER_FLAG', 'BVA_LTV',\n",
       "       'CERTNUM COUNT', 'RATETYPE', 'FIXED_RATEIND', 'CRD_SCORE_CAPITAL',\n",
       "       'PRODUCT_CODE', 'SPECIAL_PROGRAM_CODE', 'DateTime_Out',\n",
       "       'Previous Month End', '12 Months Ago- First ', '24 Months Ago',\n",
       "       '12 Months Ago -Last', '1-12 Flag', '13-24 Flag', 'NUM_BOR',\n",
       "       'URBAN_RURAL', 'COMP TDSR >40 (#)', 'COMP GDSR >35 (#)', 'GIFT (#)'],\n",
       "      dtype='object')"
      ]
     },
     "execution_count": 37,
     "metadata": {},
     "output_type": "execute_result"
    }
   ],
   "source": [
    "df.columns"
   ]
  },
  {
   "cell_type": "code",
   "execution_count": null,
   "id": "de560d9c",
   "metadata": {},
   "outputs": [
    {
     "data": {
      "text/plain": [
       "ExpectColumnValuesToBeInSet(id='90004e20-2e55-4893-81ac-34f1be4c5da5', meta=None, notes=None, result_format=<ResultFormat.COMPLETE: 'COMPLETE'>, description=None, catch_exceptions=True, rendered_content=None, windows=None, batch_id=None, column='REGION', mostly=1, row_condition=None, condition_parser=None, value_set=['GTA', 'QUEBEC', 'PRAIRIES', 'PACIFIC', 'ALBERTA', 'ONTARIO', 'ATLANTIC'])"
      ]
     },
     "execution_count": 38,
     "metadata": {},
     "output_type": "execute_result"
    },
    {
     "name": "stderr",
     "output_type": "stream",
     "text": [
      "error uploading: HTTPSConnectionPool(host='posthog.greatexpectations.io', port=443): Max retries exceeded with url: /batch/ (Caused by SSLError(SSLCertVerificationError(1, '[SSL: CERTIFICATE_VERIFY_FAILED] certificate verify failed: unable to get local issuer certificate (_ssl.c:1000)')))\n",
      "error uploading: HTTPSConnectionPool(host='posthog.greatexpectations.io', port=443): Max retries exceeded with url: /batch/ (Caused by SSLError(SSLCertVerificationError(1, '[SSL: CERTIFICATE_VERIFY_FAILED] certificate verify failed: unable to get local issuer certificate (_ssl.c:1000)')))\n"
     ]
    }
   ],
   "source": [
    "region_expectation = gx.expectations.ExpectColumnValuesToBeInSet( \n",
    "        column=\"REGION\",\n",
    "        value_set=region_set,\n",
    "        result_format=\"COMPLETE\"\n",
    "    )\n",
    "delq_suite.add_expectation(region_expectation\n",
    "    \n",
    ")"
   ]
  },
  {
   "cell_type": "code",
   "execution_count": 55,
   "id": "6e2abf56",
   "metadata": {},
   "outputs": [
    {
     "name": "stderr",
     "output_type": "stream",
     "text": [
      "error uploading: HTTPSConnectionPool(host='posthog.greatexpectations.io', port=443): Max retries exceeded with url: /batch/ (Caused by SSLError(SSLCertVerificationError(1, '[SSL: CERTIFICATE_VERIFY_FAILED] certificate verify failed: unable to get local issuer certificate (_ssl.c:1000)')))\n"
     ]
    }
   ],
   "source": [
    "region_expectation.mostly = 0.99\n",
    "region_expectation.save()"
   ]
  },
  {
   "cell_type": "code",
   "execution_count": 39,
   "id": "6925453e",
   "metadata": {},
   "outputs": [
    {
     "data": {
      "text/plain": [
       "ExpectColumnValuesToNotBeNull(id='6c5ea5ad-227f-4de1-8cb8-1b953b938ae1', meta=None, notes=None, result_format=<ResultFormat.COMPLETE: 'COMPLETE'>, description=None, catch_exceptions=True, rendered_content=None, windows=None, batch_id=None, column='CERTNUM', mostly=1, row_condition=None, condition_parser=None)"
      ]
     },
     "execution_count": 39,
     "metadata": {},
     "output_type": "execute_result"
    }
   ],
   "source": [
    "delq_suite.add_expectation(\n",
    "    gx.expectations.ExpectColumnValuesToNotBeNull(\n",
    "        column=\"REGION\",  # Correct: single string for the column name\n",
    "        result_format=\"COMPLETE\"\n",
    "    )\n",
    ")\n",
    "\n",
    "# Add expectation for 'CERTNUM' column\n",
    "delq_suite.add_expectation(\n",
    "    gx.expectations.ExpectColumnValuesToNotBeNull(\n",
    "        column=\"CERTNUM\",  # Correct: single string for the column name\n",
    "        result_format=\"COMPLETE\"\n",
    "    )\n",
    ")"
   ]
  },
  {
   "cell_type": "code",
   "execution_count": 40,
   "id": "31f2f1a9",
   "metadata": {},
   "outputs": [
    {
     "data": {
      "text/plain": [
       "ExpectColumnValuesToBeBetween(id='93ca2687-a5ec-443e-b316-d625bdbaa9b0', meta=None, notes=None, result_format=<ResultFormat.COMPLETE: 'COMPLETE'>, description=None, catch_exceptions=True, rendered_content=None, windows=None, batch_id=None, column='CURRENT_OUTSTANDING_BAL_AMT', mostly=1, row_condition=None, condition_parser=None, min_value=None, max_value=1500000.0, strict_min=False, strict_max=False)"
      ]
     },
     "execution_count": 40,
     "metadata": {},
     "output_type": "execute_result"
    },
    {
     "name": "stderr",
     "output_type": "stream",
     "text": [
      "error uploading: HTTPSConnectionPool(host='posthog.greatexpectations.io', port=443): Max retries exceeded with url: /batch/ (Caused by SSLError(SSLCertVerificationError(1, '[SSL: CERTIFICATE_VERIFY_FAILED] certificate verify failed: unable to get local issuer certificate (_ssl.c:1000)')))\n"
     ]
    }
   ],
   "source": [
    "delq_suite.add_expectation(\n",
    "    gx.expectations.ExpectColumnValuesToBeBetween(\n",
    "        column=\"CURRENT_OUTSTANDING_BAL_AMT\",\n",
    "        min_value=None, # This indicates no lower bound check\n",
    "        max_value=1500000,\n",
    "        result_format=\"COMPLETE\"\n",
    "    )\n",
    ")"
   ]
  },
  {
   "cell_type": "code",
   "execution_count": 41,
   "id": "a6a4ba79",
   "metadata": {},
   "outputs": [],
   "source": [
    "delq_validation_definition = gx.ValidationDefinition(\n",
    "    data= batch_definition,\n",
    "    suite=delq_suite,\n",
    "    name=\"delq_validation_definition\")"
   ]
  },
  {
   "cell_type": "code",
   "execution_count": 16,
   "id": "c8d72e0d",
   "metadata": {},
   "outputs": [],
   "source": [
    "batch = batch_definition.get_batch(batch_parameters=batch_parameters)"
   ]
  },
  {
   "cell_type": "code",
   "execution_count": 43,
   "id": "bd7bccb0",
   "metadata": {},
   "outputs": [],
   "source": [
    "expectation_suite = context.suites.get(name=\"daily_delq-quality_suite\")"
   ]
  },
  {
   "cell_type": "code",
   "execution_count": 44,
   "id": "2292abf9",
   "metadata": {},
   "outputs": [],
   "source": [
    "batch_definition = (\n",
    "    context.data_sources.get(data_source_name)\n",
    "    .get_asset(data_asset_name)\n",
    "    .get_batch_definition(batch_definition_name)\n",
    ")"
   ]
  },
  {
   "cell_type": "code",
   "execution_count": 45,
   "id": "f81039c3",
   "metadata": {},
   "outputs": [],
   "source": [
    "\n",
    "validation_definition = gx.ValidationDefinition(\n",
    "    data=batch_definition, suite=expectation_suite, name=definition_name\n",
    ")"
   ]
  },
  {
   "cell_type": "code",
   "execution_count": 46,
   "id": "c7c568f7",
   "metadata": {},
   "outputs": [],
   "source": [
    "\n",
    "\n",
    "\n",
    "validation_definition = context.validation_definitions.add(validation_definition)"
   ]
  },
  {
   "cell_type": "code",
   "execution_count": 17,
   "id": "26c27638",
   "metadata": {},
   "outputs": [],
   "source": [
    "#getting validation definition\n",
    "validation_definition = context.validation_definitions.get(name=definition_name)"
   ]
  },
  {
   "cell_type": "code",
   "execution_count": 18,
   "id": "18c7b1a4",
   "metadata": {},
   "outputs": [
    {
     "name": "stderr",
     "output_type": "stream",
     "text": [
      "Calculating Metrics: 100%|██████████| 30/30 [00:02<00:00, 10.86it/s] \n"
     ]
    }
   ],
   "source": [
    "validation_results = validation_definition.run(batch_parameters=batch_parameters)"
   ]
  },
  {
   "cell_type": "code",
   "execution_count": 19,
   "id": "df623d22",
   "metadata": {},
   "outputs": [
    {
     "name": "stdout",
     "output_type": "stream",
     "text": [
      "{\n",
      "  \"success\": true,\n",
      "  \"results\": [\n",
      "    {\n",
      "      \"success\": true,\n",
      "      \"expectation_config\": {\n",
      "        \"type\": \"expect_column_values_to_be_in_set\",\n",
      "        \"kwargs\": {\n",
      "          \"result_format\": \"COMPLETE\",\n",
      "          \"batch_id\": \"my_test_source-my_test_asset\",\n",
      "          \"column\": \"REGION\",\n",
      "          \"mostly\": 0.99,\n",
      "          \"value_set\": [\n",
      "            \"GTA\",\n",
      "            \"QUEBEC\",\n",
      "            \"PRAIRIES\",\n",
      "            \"PACIFIC\",\n",
      "            \"ALBERTA\",\n",
      "            \"ONTARIO\",\n",
      "            \"ATLANTIC\"\n",
      "          ]\n",
      "        },\n",
      "        \"meta\": {},\n",
      "        \"id\": \"90004e20-2e55-4893-81ac-34f1be4c5da5\"\n",
      "      },\n",
      "      \"result\": {\n",
      "        \"element_count\": 744337,\n",
      "        \"unexpected_count\": 1,\n",
      "        \"unexpected_percent\": 0.0001343477483989107,\n",
      "        \"partial_unexpected_list\": [\n",
      "          \"OTHER\"\n",
      "        ],\n",
      "        \"missing_count\": 0,\n",
      "        \"missing_percent\": 0.0,\n",
      "        \"unexpected_percent_total\": 0.0001343477483989107,\n",
      "        \"unexpected_percent_nonmissing\": 0.0001343477483989107,\n",
      "        \"partial_unexpected_counts\": [\n",
      "          {\n",
      "            \"value\": \"OTHER\",\n",
      "            \"count\": 1\n",
      "          }\n",
      "        ],\n",
      "        \"partial_unexpected_index_list\": [\n",
      "          395380\n",
      "        ]\n",
      "      },\n",
      "      \"meta\": {},\n",
      "      \"exception_info\": {\n",
      "        \"raised_exception\": false,\n",
      "        \"exception_traceback\": null,\n",
      "        \"exception_message\": null\n",
      "      }\n",
      "    },\n",
      "    {\n",
      "      \"success\": true,\n",
      "      \"expectation_config\": {\n",
      "        \"type\": \"expect_column_values_to_not_be_null\",\n",
      "        \"kwargs\": {\n",
      "          \"result_format\": \"COMPLETE\",\n",
      "          \"batch_id\": \"my_test_source-my_test_asset\",\n",
      "          \"column\": \"REGION\"\n",
      "        },\n",
      "        \"meta\": {},\n",
      "        \"id\": \"7f4802f2-7ef8-471b-8858-e4f8e0e9c679\"\n",
      "      },\n",
      "      \"result\": {\n",
      "        \"element_count\": 744337,\n",
      "        \"unexpected_count\": 0,\n",
      "        \"unexpected_percent\": 0.0,\n",
      "        \"partial_unexpected_list\": [],\n",
      "        \"partial_unexpected_counts\": [],\n",
      "        \"partial_unexpected_index_list\": []\n",
      "      },\n",
      "      \"meta\": {},\n",
      "      \"exception_info\": {\n",
      "        \"raised_exception\": false,\n",
      "        \"exception_traceback\": null,\n",
      "        \"exception_message\": null\n",
      "      }\n",
      "    },\n",
      "    {\n",
      "      \"success\": true,\n",
      "      \"expectation_config\": {\n",
      "        \"type\": \"expect_column_values_to_not_be_null\",\n",
      "        \"kwargs\": {\n",
      "          \"result_format\": \"COMPLETE\",\n",
      "          \"batch_id\": \"my_test_source-my_test_asset\",\n",
      "          \"column\": \"CERTNUM\"\n",
      "        },\n",
      "        \"meta\": {},\n",
      "        \"id\": \"6c5ea5ad-227f-4de1-8cb8-1b953b938ae1\"\n",
      "      },\n",
      "      \"result\": {\n",
      "        \"element_count\": 744337,\n",
      "        \"unexpected_count\": 0,\n",
      "        \"unexpected_percent\": 0.0,\n",
      "        \"partial_unexpected_list\": [],\n",
      "        \"partial_unexpected_counts\": [],\n",
      "        \"partial_unexpected_index_list\": []\n",
      "      },\n",
      "      \"meta\": {},\n",
      "      \"exception_info\": {\n",
      "        \"raised_exception\": false,\n",
      "        \"exception_traceback\": null,\n",
      "        \"exception_message\": null\n",
      "      }\n",
      "    },\n",
      "    {\n",
      "      \"success\": true,\n",
      "      \"expectation_config\": {\n",
      "        \"type\": \"expect_column_values_to_be_between\",\n",
      "        \"kwargs\": {\n",
      "          \"result_format\": \"COMPLETE\",\n",
      "          \"batch_id\": \"my_test_source-my_test_asset\",\n",
      "          \"column\": \"CURRENT_OUTSTANDING_BAL_AMT\",\n",
      "          \"max_value\": 1500000.0\n",
      "        },\n",
      "        \"meta\": {},\n",
      "        \"id\": \"93ca2687-a5ec-443e-b316-d625bdbaa9b0\"\n",
      "      },\n",
      "      \"result\": {\n",
      "        \"element_count\": 744337,\n",
      "        \"unexpected_count\": 0,\n",
      "        \"unexpected_percent\": 0.0,\n",
      "        \"partial_unexpected_list\": [],\n",
      "        \"missing_count\": 96,\n",
      "        \"missing_percent\": 0.012897383846295428,\n",
      "        \"unexpected_percent_total\": 0.0,\n",
      "        \"unexpected_percent_nonmissing\": 0.0,\n",
      "        \"partial_unexpected_counts\": [],\n",
      "        \"partial_unexpected_index_list\": []\n",
      "      },\n",
      "      \"meta\": {},\n",
      "      \"exception_info\": {\n",
      "        \"raised_exception\": false,\n",
      "        \"exception_traceback\": null,\n",
      "        \"exception_message\": null\n",
      "      }\n",
      "    }\n",
      "  ],\n",
      "  \"suite_name\": \"daily_delq-quality_suite\",\n",
      "  \"suite_parameters\": {},\n",
      "  \"statistics\": {\n",
      "    \"evaluated_expectations\": 4,\n",
      "    \"successful_expectations\": 4,\n",
      "    \"unsuccessful_expectations\": 0,\n",
      "    \"success_percent\": 100.0\n",
      "  },\n",
      "  \"meta\": {\n",
      "    \"great_expectations_version\": \"1.5.5\",\n",
      "    \"batch_spec\": {\n",
      "      \"batch_data\": \"PandasDataFrame\"\n",
      "    },\n",
      "    \"batch_markers\": {\n",
      "      \"ge_load_time\": \"20250728T134602.903605Z\",\n",
      "      \"pandas_data_fingerprint\": \"a65d11282370934edcb44bc51c3cf025\"\n",
      "    },\n",
      "    \"active_batch_definition\": {\n",
      "      \"datasource_name\": \"my_test_source\",\n",
      "      \"data_connector_name\": \"fluent\",\n",
      "      \"data_asset_name\": \"my_test_asset\",\n",
      "      \"batch_identifiers\": {\n",
      "        \"dataframe\": \"<DATAFRAME>\"\n",
      "      }\n",
      "    },\n",
      "    \"validation_id\": \"1aed628c-ae52-43bc-86d9-779244699aa1\",\n",
      "    \"checkpoint_id\": null,\n",
      "    \"run_id\": {\n",
      "      \"run_name\": null,\n",
      "      \"run_time\": \"2025-07-28T09:46:08.178479-04:00\"\n",
      "    },\n",
      "    \"validation_time\": \"2025-07-28T13:46:08.178479+00:00\",\n",
      "    \"batch_parameters\": {\n",
      "      \"dataframe\": \"<DATAFRAME>\"\n",
      "    }\n",
      "  },\n",
      "  \"id\": null\n",
      "}\n"
     ]
    }
   ],
   "source": [
    "print(validation_results)"
   ]
  },
  {
   "cell_type": "code",
   "execution_count": 60,
   "id": "8fb532f5",
   "metadata": {},
   "outputs": [
    {
     "data": {
      "text/plain": [
       "{'local_site': 'file://c:\\\\Users\\\\650000337\\\\Documents\\\\Lax_dev\\\\Data_Quality_Great_Expectations\\\\gx\\\\uncommitted/data_docs/local_site/index.html'}"
      ]
     },
     "execution_count": 60,
     "metadata": {},
     "output_type": "execute_result"
    },
    {
     "name": "stderr",
     "output_type": "stream",
     "text": [
      "error uploading: HTTPSConnectionPool(host='posthog.greatexpectations.io', port=443): Max retries exceeded with url: /batch/ (Caused by SSLError(SSLCertVerificationError(1, '[SSL: CERTIFICATE_VERIFY_FAILED] certificate verify failed: unable to get local issuer certificate (_ssl.c:1000)')))\n"
     ]
    }
   ],
   "source": [
    "context.build_data_docs()"
   ]
  },
  {
   "cell_type": "code",
   "execution_count": 51,
   "id": "6ed3795d",
   "metadata": {},
   "outputs": [
    {
     "data": {
      "text/html": [
       "<div>\n",
       "<style scoped>\n",
       "    .dataframe tbody tr th:only-of-type {\n",
       "        vertical-align: middle;\n",
       "    }\n",
       "\n",
       "    .dataframe tbody tr th {\n",
       "        vertical-align: top;\n",
       "    }\n",
       "\n",
       "    .dataframe thead th {\n",
       "        text-align: right;\n",
       "    }\n",
       "</style>\n",
       "<table border=\"1\" class=\"dataframe\">\n",
       "  <thead>\n",
       "    <tr style=\"text-align: right;\">\n",
       "      <th></th>\n",
       "      <th>CERTNUM</th>\n",
       "      <th>PROVINCE</th>\n",
       "    </tr>\n",
       "  </thead>\n",
       "  <tbody>\n",
       "    <tr>\n",
       "      <th>395380</th>\n",
       "      <td>2040210350</td>\n",
       "      <td>QC</td>\n",
       "    </tr>\n",
       "  </tbody>\n",
       "</table>\n",
       "</div>"
      ],
      "text/plain": [
       "           CERTNUM PROVINCE\n",
       "395380  2040210350       QC"
      ]
     },
     "execution_count": 51,
     "metadata": {},
     "output_type": "execute_result"
    }
   ],
   "source": [
    "df[df['REGION'] == 'OTHER'][['CERTNUM','PROVINCE']]"
   ]
  },
  {
   "cell_type": "code",
   "execution_count": 5,
   "id": "e6f6d6bd",
   "metadata": {},
   "outputs": [],
   "source": [
    "suite = context.suites.get(name=\"daily_delq-quality_suite\")"
   ]
  },
  {
   "cell_type": "code",
   "execution_count": 61,
   "id": "302d38b1",
   "metadata": {},
   "outputs": [],
   "source": [
    "action_list = [UpdateDataDocsAction(\n",
    "    name=\"Update Data Docs\"\n",
    ")]"
   ]
  },
  {
   "cell_type": "code",
   "execution_count": 65,
   "id": "b3b853a4",
   "metadata": {},
   "outputs": [],
   "source": [
    "checkpoint = gx.Checkpoint(\n",
    "    name=checkpoint_name,\n",
    "    validation_definitions=[validation_definition],\n",
    "    actions=action_list,\n",
    "    result_format={\"result_format\": \"COMPLETE\"},\n",
    ")"
   ]
  },
  {
   "cell_type": "code",
   "execution_count": 66,
   "id": "566f2eea",
   "metadata": {},
   "outputs": [
    {
     "data": {
      "text/plain": [
       "Checkpoint(name='my_checkpoint', validation_definitions=[ValidationDefinition(name='my_validation_definition', data=BatchDefinition(id=UUID('4d4e1c7a-0f6d-475a-ac2c-0c2d1be809c5'), name='my_batch_definition', partitioner=None), suite={\n",
       "  \"name\": \"daily_delq-quality_suite\",\n",
       "  \"id\": \"92aacbee-22dc-47be-a51f-5323bf8edea3\",\n",
       "  \"expectations\": [\n",
       "    {\n",
       "      \"type\": \"expect_column_values_to_be_in_set\",\n",
       "      \"kwargs\": {\n",
       "        \"result_format\": \"COMPLETE\",\n",
       "        \"column\": \"REGION\",\n",
       "        \"mostly\": 0.99,\n",
       "        \"value_set\": [\n",
       "          \"GTA\",\n",
       "          \"QUEBEC\",\n",
       "          \"PRAIRIES\",\n",
       "          \"PACIFIC\",\n",
       "          \"ALBERTA\",\n",
       "          \"ONTARIO\",\n",
       "          \"ATLANTIC\"\n",
       "        ]\n",
       "      },\n",
       "      \"meta\": {},\n",
       "      \"id\": \"90004e20-2e55-4893-81ac-34f1be4c5da5\"\n",
       "    },\n",
       "    {\n",
       "      \"type\": \"expect_column_values_to_not_be_null\",\n",
       "      \"kwargs\": {\n",
       "        \"result_format\": \"COMPLETE\",\n",
       "        \"column\": \"REGION\"\n",
       "      },\n",
       "      \"meta\": {},\n",
       "      \"id\": \"7f4802f2-7ef8-471b-8858-e4f8e0e9c679\"\n",
       "    },\n",
       "    {\n",
       "      \"type\": \"expect_column_values_to_not_be_null\",\n",
       "      \"kwargs\": {\n",
       "        \"result_format\": \"COMPLETE\",\n",
       "        \"column\": \"CERTNUM\"\n",
       "      },\n",
       "      \"meta\": {},\n",
       "      \"id\": \"6c5ea5ad-227f-4de1-8cb8-1b953b938ae1\"\n",
       "    },\n",
       "    {\n",
       "      \"type\": \"expect_column_values_to_be_between\",\n",
       "      \"kwargs\": {\n",
       "        \"result_format\": \"COMPLETE\",\n",
       "        \"column\": \"CURRENT_OUTSTANDING_BAL_AMT\",\n",
       "        \"max_value\": 1500000.0\n",
       "      },\n",
       "      \"meta\": {},\n",
       "      \"id\": \"93ca2687-a5ec-443e-b316-d625bdbaa9b0\"\n",
       "    }\n",
       "  ],\n",
       "  \"meta\": {\n",
       "    \"great_expectations_version\": \"1.5.5\"\n",
       "  },\n",
       "  \"notes\": null\n",
       "}, id='1aed628c-ae52-43bc-86d9-779244699aa1')], actions=[UpdateDataDocsAction(type='update_data_docs', name='Update Data Docs', site_names=[])], result_format={'result_format': 'COMPLETE'}, id='295a903f-52d8-483a-9713-b0601b593ea4')"
      ]
     },
     "execution_count": 66,
     "metadata": {},
     "output_type": "execute_result"
    },
    {
     "name": "stderr",
     "output_type": "stream",
     "text": [
      "error uploading: HTTPSConnectionPool(host='posthog.greatexpectations.io', port=443): Max retries exceeded with url: /batch/ (Caused by SSLError(SSLCertVerificationError(1, '[SSL: CERTIFICATE_VERIFY_FAILED] certificate verify failed: unable to get local issuer certificate (_ssl.c:1000)')))\n"
     ]
    }
   ],
   "source": [
    "context.checkpoints.add(checkpoint)"
   ]
  },
  {
   "cell_type": "code",
   "execution_count": 5,
   "id": "60b5ee20",
   "metadata": {},
   "outputs": [],
   "source": [
    "from great_expectations.core import RunIdentifier\n",
    "from datetime import datetime\n",
    "\n",
    "run_id = RunIdentifier(run_name=f\"my_run_{datetime.now().strftime('%Y%m%d_%H%M%S')}\")\n"
   ]
  },
  {
   "cell_type": "code",
   "execution_count": 30,
   "id": "66796dbb",
   "metadata": {},
   "outputs": [
    {
     "name": "stderr",
     "output_type": "stream",
     "text": [
      "Calculating Metrics: 100%|██████████| 30/30 [00:03<00:00,  9.70it/s] \n"
     ]
    }
   ],
   "source": [
    "checkpoint = context.checkpoints.get(name=checkpoint_name)\n",
    "validation_results = checkpoint.run(\n",
    "    run_id= run_id,\n",
    "    batch_parameters=batch_parameters\n",
    ")"
   ]
  },
  {
   "cell_type": "code",
   "execution_count": 24,
   "id": "9f8d0dbc",
   "metadata": {},
   "outputs": [
    {
     "name": "stdout",
     "output_type": "stream",
     "text": [
      "True\n"
     ]
    }
   ],
   "source": [
    "print(validation_results.success)"
   ]
  },
  {
   "cell_type": "code",
   "execution_count": 5,
   "id": "0c01f250",
   "metadata": {},
   "outputs": [
    {
     "data": {
      "text/plain": [
       "[ExpectColumnValuesToBeInSet(id='90004e20-2e55-4893-81ac-34f1be4c5da5', meta={}, notes=None, result_format=<ResultFormat.COMPLETE: 'COMPLETE'>, description=None, catch_exceptions=True, rendered_content=None, windows=None, batch_id=None, column='REGION', mostly=0.99, row_condition=None, condition_parser=None, value_set=['GTA', 'QUEBEC', 'PRAIRIES', 'PACIFIC', 'ALBERTA', 'ONTARIO', 'ATLANTIC']),\n",
       " ExpectColumnValuesToNotBeNull(id='7f4802f2-7ef8-471b-8858-e4f8e0e9c679', meta={}, notes=None, result_format=<ResultFormat.COMPLETE: 'COMPLETE'>, description=None, catch_exceptions=True, rendered_content=None, windows=None, batch_id=None, column='REGION', mostly=1, row_condition=None, condition_parser=None),\n",
       " ExpectColumnValuesToNotBeNull(id='6c5ea5ad-227f-4de1-8cb8-1b953b938ae1', meta={}, notes=None, result_format=<ResultFormat.COMPLETE: 'COMPLETE'>, description=None, catch_exceptions=True, rendered_content=None, windows=None, batch_id=None, column='CERTNUM', mostly=1, row_condition=None, condition_parser=None),\n",
       " ExpectColumnValuesToBeBetween(id='93ca2687-a5ec-443e-b316-d625bdbaa9b0', meta={}, notes=None, result_format=<ResultFormat.COMPLETE: 'COMPLETE'>, description=None, catch_exceptions=True, rendered_content=None, windows=None, batch_id=None, column='CURRENT_OUTSTANDING_BAL_AMT', mostly=1, row_condition=None, condition_parser=None, min_value=None, max_value=1500000.0, strict_min=False, strict_max=False),\n",
       " ExpectColumnValuesToNotBeNull(id='2640c3bc-e208-4df5-b10a-74222f25d02f', meta={}, notes=None, result_format=<ResultFormat.COMPLETE: 'COMPLETE'>, description=\"Column 'CURRENT_OUTSTANDING_BAL_AMT' should not be null when CPA_REMAINING_AMORTIZATION > 0 or CPA_REMAINING_AMORTIZATION.notnull()\", catch_exceptions=True, rendered_content=None, windows=None, batch_id=None, column='CURRENT_OUTSTANDING_BAL_AMT', mostly=1, row_condition='CPA_REMAINING_AMORTIZATION > 0 or CPA_REMAINING_AMORTIZATION.notnull()', condition_parser='pandas')]"
      ]
     },
     "execution_count": 5,
     "metadata": {},
     "output_type": "execute_result"
    }
   ],
   "source": [
    "delq_suite = context.suites.get(name=\"daily_delq-quality_suite\")\n",
    "delq_suite.expectations"
   ]
  },
  {
   "cell_type": "code",
   "execution_count": 12,
   "id": "1e17ea17",
   "metadata": {},
   "outputs": [],
   "source": [
    "for exp in delq_suite.expectations:\n",
    "    if exp.expectation_type == \"expect_column_values_to_be_in_set\" and exp.column == 'REGION':\n",
    "        exp.mostly = 0.99\n",
    "delq_suite.save()"
   ]
  },
  {
   "cell_type": "code",
   "execution_count": 7,
   "id": "faf34b8b",
   "metadata": {},
   "outputs": [],
   "source": [
    "# add expecation for 'Outstanding Balance' column where it should be not null if CPA_REMAINING_AMORTIZATION is greater than 0 or is not null\n",
    "delq_suite.add_expectation(\n",
    "    gx.expectations.ExpectColumnValuesToNotBeNull(\n",
    "        column=\"CURRENT_OUTSTANDING_BAL_AMT\",\n",
    "        row_condition=\"CPA_REMAINING_AMORTIZATION > 0 or CPA_REMAINING_AMORTIZATION is not null\",\n",
    "        result_format=\"COMPLETE\",\n",
    "        condition_parser= \"pandas\"\n",
    "    )\n",
    ")\n",
    "delq_suite.save()"
   ]
  },
  {
   "cell_type": "code",
   "execution_count": 20,
   "id": "134a4014",
   "metadata": {},
   "outputs": [],
   "source": [
    "#modify the expecation with row condition\n",
    "for exp in delq_suite.expectations:\n",
    "    if isinstance(exp, gx.expectations.ExpectColumnValuesToNotBeNull) and exp.row_condition:\n",
    "        exp.row_condition = \"CPA_REMAINING_AMORTIZATION > 0 or CPA_REMAINING_AMORTIZATION.notnull()\" \n",
    "        exp.description = f\"Column '{exp.column}' should not be null when {exp.row_condition}\"\n",
    "\n",
    "delq_suite.save()"
   ]
  },
  {
   "cell_type": "code",
   "execution_count": 21,
   "id": "f369a3be",
   "metadata": {},
   "outputs": [
    {
     "data": {
      "text/plain": [
       "[ExpectColumnValuesToBeInSet(id='90004e20-2e55-4893-81ac-34f1be4c5da5', meta={}, notes=None, result_format=<ResultFormat.COMPLETE: 'COMPLETE'>, description=None, catch_exceptions=True, rendered_content=None, windows=None, batch_id=None, column='REGION', mostly=0.99, row_condition=None, condition_parser=None, value_set=['GTA', 'QUEBEC', 'PRAIRIES', 'PACIFIC', 'ALBERTA', 'ONTARIO', 'ATLANTIC']),\n",
       " ExpectColumnValuesToNotBeNull(id='7f4802f2-7ef8-471b-8858-e4f8e0e9c679', meta={}, notes=None, result_format=<ResultFormat.COMPLETE: 'COMPLETE'>, description=None, catch_exceptions=True, rendered_content=None, windows=None, batch_id=None, column='REGION', mostly=1, row_condition=None, condition_parser=None),\n",
       " ExpectColumnValuesToNotBeNull(id='6c5ea5ad-227f-4de1-8cb8-1b953b938ae1', meta={}, notes=None, result_format=<ResultFormat.COMPLETE: 'COMPLETE'>, description=None, catch_exceptions=True, rendered_content=None, windows=None, batch_id=None, column='CERTNUM', mostly=1, row_condition=None, condition_parser=None),\n",
       " ExpectColumnValuesToBeBetween(id='93ca2687-a5ec-443e-b316-d625bdbaa9b0', meta={}, notes=None, result_format=<ResultFormat.COMPLETE: 'COMPLETE'>, description=None, catch_exceptions=True, rendered_content=None, windows=None, batch_id=None, column='CURRENT_OUTSTANDING_BAL_AMT', mostly=1, row_condition=None, condition_parser=None, min_value=None, max_value=1500000.0, strict_min=False, strict_max=False),\n",
       " ExpectColumnValuesToNotBeNull(id='2640c3bc-e208-4df5-b10a-74222f25d02f', meta=None, notes=None, result_format=<ResultFormat.COMPLETE: 'COMPLETE'>, description=\"Column 'CURRENT_OUTSTANDING_BAL_AMT' should not be null when CPA_REMAINING_AMORTIZATION > 0 or CPA_REMAINING_AMORTIZATION.notnull()\", catch_exceptions=True, rendered_content=None, windows=None, batch_id=None, column='CURRENT_OUTSTANDING_BAL_AMT', mostly=1, row_condition='CPA_REMAINING_AMORTIZATION > 0 or CPA_REMAINING_AMORTIZATION.notnull()', condition_parser='pandas')]"
      ]
     },
     "execution_count": 21,
     "metadata": {},
     "output_type": "execute_result"
    }
   ],
   "source": [
    "delq_suite.expectations"
   ]
  },
  {
   "cell_type": "code",
   "execution_count": 6,
   "id": "b79dceac",
   "metadata": {},
   "outputs": [],
   "source": [
    "run_id = RunIdentifier(run_name=f\"Test_run\")\n",
    "batch_parameters = {\"dataframe\": df}"
   ]
  },
  {
   "cell_type": "code",
   "execution_count": 7,
   "id": "0a33e439",
   "metadata": {},
   "outputs": [
    {
     "name": "stderr",
     "output_type": "stream",
     "text": [
      "Calculating Metrics: 100%|██████████| 38/38 [00:04<00:00,  8.80it/s]\n"
     ]
    },
    {
     "name": "stdout",
     "output_type": "stream",
     "text": [
      "Checkpoint run result: True\n"
     ]
    }
   ],
   "source": [
    "checkpoint = context.checkpoints.get(checkpoint_name)\n",
    "checkpoint_result = checkpoint.run(run_id=run_id, batch_parameters=batch_parameters)\n",
    "print(f\"Checkpoint run result: {checkpoint_result.success}\")"
   ]
  },
  {
   "cell_type": "code",
   "execution_count": 19,
   "id": "efb772c6",
   "metadata": {},
   "outputs": [
    {
     "data": {
      "text/plain": [
       "CheckpointResult(run_id={\"run_name\": \"Test_run\", \"run_time\": \"2025-07-29T12:19:09.283310-04:00\"}, run_results={ValidationResultIdentifier::daily_delq-quality_suite/Test_run/20250729T161909.283310Z/my_test_source-my_test_asset: {\n",
       "  \"success\": true,\n",
       "  \"results\": [\n",
       "    {\n",
       "      \"success\": true,\n",
       "      \"expectation_config\": {\n",
       "        \"type\": \"expect_column_values_to_be_in_set\",\n",
       "        \"kwargs\": {\n",
       "          \"result_format\": \"COMPLETE\",\n",
       "          \"batch_id\": \"my_test_source-my_test_asset\",\n",
       "          \"column\": \"REGION\",\n",
       "          \"mostly\": 0.99,\n",
       "          \"value_set\": [\n",
       "            \"GTA\",\n",
       "            \"QUEBEC\",\n",
       "            \"PRAIRIES\",\n",
       "            \"PACIFIC\",\n",
       "            \"ALBERTA\",\n",
       "            \"ONTARIO\",\n",
       "            \"ATLANTIC\"\n",
       "          ]\n",
       "        },\n",
       "        \"meta\": {},\n",
       "        \"id\": \"90004e20-2e55-4893-81ac-34f1be4c5da5\"\n",
       "      },\n",
       "      \"result\": {\n",
       "        \"element_count\": 744337,\n",
       "        \"unexpected_count\": 1,\n",
       "        \"unexpected_percent\": 0.0001343477483989107,\n",
       "        \"partial_unexpected_list\": [\n",
       "          \"OTHER\"\n",
       "        ],\n",
       "        \"missing_count\": 0,\n",
       "        \"missing_percent\": 0.0,\n",
       "        \"unexpected_percent_total\": 0.0001343477483989107,\n",
       "        \"unexpected_percent_nonmissing\": 0.0001343477483989107,\n",
       "        \"partial_unexpected_counts\": [\n",
       "          {\n",
       "            \"value\": \"OTHER\",\n",
       "            \"count\": 1\n",
       "          }\n",
       "        ],\n",
       "        \"partial_unexpected_index_list\": [\n",
       "          395380\n",
       "        ],\n",
       "        \"unexpected_list\": [\n",
       "          \"OTHER\"\n",
       "        ],\n",
       "        \"unexpected_index_list\": [\n",
       "          395380\n",
       "        ],\n",
       "        \"unexpected_index_query\": \"df.filter(items=[395380], axis=0)\"\n",
       "      },\n",
       "      \"meta\": {},\n",
       "      \"exception_info\": {\n",
       "        \"raised_exception\": false,\n",
       "        \"exception_traceback\": null,\n",
       "        \"exception_message\": null\n",
       "      }\n",
       "    },\n",
       "    {\n",
       "      \"success\": true,\n",
       "      \"expectation_config\": {\n",
       "        \"type\": \"expect_column_values_to_not_be_null\",\n",
       "        \"kwargs\": {\n",
       "          \"result_format\": \"COMPLETE\",\n",
       "          \"batch_id\": \"my_test_source-my_test_asset\",\n",
       "          \"column\": \"REGION\"\n",
       "        },\n",
       "        \"meta\": {},\n",
       "        \"id\": \"7f4802f2-7ef8-471b-8858-e4f8e0e9c679\"\n",
       "      },\n",
       "      \"result\": {\n",
       "        \"element_count\": 744337,\n",
       "        \"unexpected_count\": 0,\n",
       "        \"unexpected_percent\": 0.0,\n",
       "        \"partial_unexpected_list\": [],\n",
       "        \"partial_unexpected_counts\": [],\n",
       "        \"partial_unexpected_index_list\": [],\n",
       "        \"unexpected_list\": [],\n",
       "        \"unexpected_index_list\": [],\n",
       "        \"unexpected_index_query\": \"df.filter(items=[], axis=0)\"\n",
       "      },\n",
       "      \"meta\": {},\n",
       "      \"exception_info\": {\n",
       "        \"raised_exception\": false,\n",
       "        \"exception_traceback\": null,\n",
       "        \"exception_message\": null\n",
       "      }\n",
       "    },\n",
       "    {\n",
       "      \"success\": true,\n",
       "      \"expectation_config\": {\n",
       "        \"type\": \"expect_column_values_to_not_be_null\",\n",
       "        \"kwargs\": {\n",
       "          \"result_format\": \"COMPLETE\",\n",
       "          \"batch_id\": \"my_test_source-my_test_asset\",\n",
       "          \"column\": \"CERTNUM\"\n",
       "        },\n",
       "        \"meta\": {},\n",
       "        \"id\": \"6c5ea5ad-227f-4de1-8cb8-1b953b938ae1\"\n",
       "      },\n",
       "      \"result\": {\n",
       "        \"element_count\": 744337,\n",
       "        \"unexpected_count\": 0,\n",
       "        \"unexpected_percent\": 0.0,\n",
       "        \"partial_unexpected_list\": [],\n",
       "        \"partial_unexpected_counts\": [],\n",
       "        \"partial_unexpected_index_list\": [],\n",
       "        \"unexpected_list\": [],\n",
       "        \"unexpected_index_list\": [],\n",
       "        \"unexpected_index_query\": \"df.filter(items=[], axis=0)\"\n",
       "      },\n",
       "      \"meta\": {},\n",
       "      \"exception_info\": {\n",
       "        \"raised_exception\": false,\n",
       "        \"exception_traceback\": null,\n",
       "        \"exception_message\": null\n",
       "      }\n",
       "    },\n",
       "    {\n",
       "      \"success\": true,\n",
       "      \"expectation_config\": {\n",
       "        \"type\": \"expect_column_values_to_be_between\",\n",
       "        \"kwargs\": {\n",
       "          \"result_format\": \"COMPLETE\",\n",
       "          \"batch_id\": \"my_test_source-my_test_asset\",\n",
       "          \"column\": \"CURRENT_OUTSTANDING_BAL_AMT\",\n",
       "          \"max_value\": 1500000.0\n",
       "        },\n",
       "        \"meta\": {},\n",
       "        \"id\": \"93ca2687-a5ec-443e-b316-d625bdbaa9b0\"\n",
       "      },\n",
       "      \"result\": {\n",
       "        \"element_count\": 744337,\n",
       "        \"unexpected_count\": 0,\n",
       "        \"unexpected_percent\": 0.0,\n",
       "        \"partial_unexpected_list\": [],\n",
       "        \"missing_count\": 96,\n",
       "        \"missing_percent\": 0.012897383846295428,\n",
       "        \"unexpected_percent_total\": 0.0,\n",
       "        \"unexpected_percent_nonmissing\": 0.0,\n",
       "        \"partial_unexpected_counts\": [],\n",
       "        \"partial_unexpected_index_list\": [],\n",
       "        \"unexpected_list\": [],\n",
       "        \"unexpected_index_list\": [],\n",
       "        \"unexpected_index_query\": \"df.filter(items=[], axis=0)\"\n",
       "      },\n",
       "      \"meta\": {},\n",
       "      \"exception_info\": {\n",
       "        \"raised_exception\": false,\n",
       "        \"exception_traceback\": null,\n",
       "        \"exception_message\": null\n",
       "      }\n",
       "    },\n",
       "    {\n",
       "      \"success\": true,\n",
       "      \"expectation_config\": {\n",
       "        \"type\": \"expect_column_values_to_not_be_null\",\n",
       "        \"kwargs\": {\n",
       "          \"result_format\": \"COMPLETE\",\n",
       "          \"batch_id\": \"my_test_source-my_test_asset\",\n",
       "          \"column\": \"CURRENT_OUTSTANDING_BAL_AMT\",\n",
       "          \"row_condition\": \"CPA_REMAINING_AMORTIZATION > 0 or CPA_REMAINING_AMORTIZATION.notnull()\",\n",
       "          \"condition_parser\": \"pandas\"\n",
       "        },\n",
       "        \"meta\": {},\n",
       "        \"id\": \"2640c3bc-e208-4df5-b10a-74222f25d02f\"\n",
       "      },\n",
       "      \"result\": {\n",
       "        \"element_count\": 744241,\n",
       "        \"unexpected_count\": 0,\n",
       "        \"unexpected_percent\": 0.0,\n",
       "        \"partial_unexpected_list\": [],\n",
       "        \"partial_unexpected_counts\": [],\n",
       "        \"partial_unexpected_index_list\": [],\n",
       "        \"unexpected_list\": [],\n",
       "        \"unexpected_index_list\": [],\n",
       "        \"unexpected_index_query\": \"df.filter(items=[], axis=0)\"\n",
       "      },\n",
       "      \"meta\": {},\n",
       "      \"exception_info\": {\n",
       "        \"raised_exception\": false,\n",
       "        \"exception_traceback\": null,\n",
       "        \"exception_message\": null\n",
       "      }\n",
       "    }\n",
       "  ],\n",
       "  \"suite_name\": \"daily_delq-quality_suite\",\n",
       "  \"suite_parameters\": {},\n",
       "  \"statistics\": {\n",
       "    \"evaluated_expectations\": 5,\n",
       "    \"successful_expectations\": 5,\n",
       "    \"unsuccessful_expectations\": 0,\n",
       "    \"success_percent\": 100.0\n",
       "  },\n",
       "  \"meta\": {\n",
       "    \"great_expectations_version\": \"1.5.5\",\n",
       "    \"batch_spec\": {\n",
       "      \"batch_data\": \"PandasDataFrame\"\n",
       "    },\n",
       "    \"batch_markers\": {\n",
       "      \"ge_load_time\": \"20250729T161909.708842Z\",\n",
       "      \"pandas_data_fingerprint\": \"a65d11282370934edcb44bc51c3cf025\"\n",
       "    },\n",
       "    \"active_batch_definition\": {\n",
       "      \"datasource_name\": \"my_test_source\",\n",
       "      \"data_connector_name\": \"fluent\",\n",
       "      \"data_asset_name\": \"my_test_asset\",\n",
       "      \"batch_identifiers\": {\n",
       "        \"dataframe\": \"<DATAFRAME>\"\n",
       "      }\n",
       "    },\n",
       "    \"validation_id\": \"1aed628c-ae52-43bc-86d9-779244699aa1\",\n",
       "    \"checkpoint_id\": \"295a903f-52d8-483a-9713-b0601b593ea4\",\n",
       "    \"run_id\": {\n",
       "      \"run_name\": \"Test_run\",\n",
       "      \"run_time\": \"2025-07-29T12:19:09.283310-04:00\"\n",
       "    },\n",
       "    \"validation_time\": \"2025-07-29T16:19:09.283310+00:00\",\n",
       "    \"batch_parameters\": {\n",
       "      \"dataframe\": \"<DATAFRAME>\"\n",
       "    }\n",
       "  },\n",
       "  \"id\": null\n",
       "}}, checkpoint_config=Checkpoint(name='my_checkpoint', validation_definitions=[ValidationDefinition(name='my_validation_definition', data=BatchDefinition(id='4d4e1c7a-0f6d-475a-ac2c-0c2d1be809c5', name='my_batch_definition', partitioner=None), suite={\n",
       "  \"name\": \"daily_delq-quality_suite\",\n",
       "  \"id\": \"92aacbee-22dc-47be-a51f-5323bf8edea3\",\n",
       "  \"expectations\": [\n",
       "    {\n",
       "      \"type\": \"expect_column_values_to_be_in_set\",\n",
       "      \"kwargs\": {\n",
       "        \"result_format\": \"COMPLETE\",\n",
       "        \"column\": \"REGION\",\n",
       "        \"mostly\": 0.99,\n",
       "        \"value_set\": [\n",
       "          \"GTA\",\n",
       "          \"QUEBEC\",\n",
       "          \"PRAIRIES\",\n",
       "          \"PACIFIC\",\n",
       "          \"ALBERTA\",\n",
       "          \"ONTARIO\",\n",
       "          \"ATLANTIC\"\n",
       "        ]\n",
       "      },\n",
       "      \"meta\": {},\n",
       "      \"id\": \"90004e20-2e55-4893-81ac-34f1be4c5da5\"\n",
       "    },\n",
       "    {\n",
       "      \"type\": \"expect_column_values_to_not_be_null\",\n",
       "      \"kwargs\": {\n",
       "        \"result_format\": \"COMPLETE\",\n",
       "        \"column\": \"REGION\"\n",
       "      },\n",
       "      \"meta\": {},\n",
       "      \"id\": \"7f4802f2-7ef8-471b-8858-e4f8e0e9c679\"\n",
       "    },\n",
       "    {\n",
       "      \"type\": \"expect_column_values_to_not_be_null\",\n",
       "      \"kwargs\": {\n",
       "        \"result_format\": \"COMPLETE\",\n",
       "        \"column\": \"CERTNUM\"\n",
       "      },\n",
       "      \"meta\": {},\n",
       "      \"id\": \"6c5ea5ad-227f-4de1-8cb8-1b953b938ae1\"\n",
       "    },\n",
       "    {\n",
       "      \"type\": \"expect_column_values_to_be_between\",\n",
       "      \"kwargs\": {\n",
       "        \"result_format\": \"COMPLETE\",\n",
       "        \"column\": \"CURRENT_OUTSTANDING_BAL_AMT\",\n",
       "        \"max_value\": 1500000.0\n",
       "      },\n",
       "      \"meta\": {},\n",
       "      \"id\": \"93ca2687-a5ec-443e-b316-d625bdbaa9b0\"\n",
       "    },\n",
       "    {\n",
       "      \"type\": \"expect_column_values_to_not_be_null\",\n",
       "      \"kwargs\": {\n",
       "        \"result_format\": \"COMPLETE\",\n",
       "        \"column\": \"CURRENT_OUTSTANDING_BAL_AMT\",\n",
       "        \"row_condition\": \"CPA_REMAINING_AMORTIZATION > 0 or CPA_REMAINING_AMORTIZATION.notnull()\",\n",
       "        \"condition_parser\": \"pandas\"\n",
       "      },\n",
       "      \"meta\": {},\n",
       "      \"id\": \"2640c3bc-e208-4df5-b10a-74222f25d02f\"\n",
       "    }\n",
       "  ],\n",
       "  \"meta\": {\n",
       "    \"great_expectations_version\": \"1.5.5\"\n",
       "  },\n",
       "  \"notes\": null\n",
       "}, id='1aed628c-ae52-43bc-86d9-779244699aa1')], actions=[UpdateDataDocsAction(type='update_data_docs', name='Update Data Docs', site_names=[])], result_format={'result_format': 'COMPLETE'}, id='295a903f-52d8-483a-9713-b0601b593ea4'), success=True)"
      ]
     },
     "execution_count": 19,
     "metadata": {},
     "output_type": "execute_result"
    }
   ],
   "source": [
    "checkpoint_result"
   ]
  },
  {
   "cell_type": "markdown",
   "id": "73df8ef2",
   "metadata": {},
   "source": [
    "## Move data docs to desired folder"
   ]
  },
  {
   "cell_type": "code",
   "execution_count": 9,
   "id": "9ebbc24e",
   "metadata": {},
   "outputs": [
    {
     "name": "stdout",
     "output_type": "stream",
     "text": [
      "File copied from C:\\Users\\650000337\\Documents\\Lax_dev\\Data_Quality_Great_Expectations\\gx\\uncommitted\\data_docs\\local_site\\index.html to C:\\Users\\650000337\\Documents\\Lax_dev\\index.html\n"
     ]
    }
   ],
   "source": [
    "import shutil\n",
    "import os\n",
    "\n",
    "source_file = r\"C:\\Users\\650000337\\Documents\\Lax_dev\\Data_Quality_Great_Expectations\\gx\\uncommitted\\data_docs\\local_site\\index.html\"\n",
    "destination_path = r\"C:\\Users\\650000337\\Documents\\Lax_dev\\index.html\"\n",
    "\n",
    "os.makedirs(os.path.dirname(destination_path), exist_ok=True)\n",
    "shutil.copy2(source_file, destination_path)  # copy2 preserves metadata\n",
    "print(f\"File copied from {source_file} to {destination_path}\")"
   ]
  },
  {
   "cell_type": "markdown",
   "id": "4cef495e",
   "metadata": {},
   "source": [
    "### Giving a custom directory for context file "
   ]
  },
  {
   "cell_type": "code",
   "execution_count": 4,
   "id": "2cbf283a",
   "metadata": {},
   "outputs": [],
   "source": [
    "context =  gx.get_context(mode=\"file\",context_root_dir=r\"C:\\Users\\650000337\\Documents\\Lax_dev\\gx\")"
   ]
  },
  {
   "cell_type": "code",
   "execution_count": 5,
   "id": "79116444",
   "metadata": {},
   "outputs": [
    {
     "data": {
      "text/plain": [
       "[ExpectColumnValuesToBeInSet(id='90004e20-2e55-4893-81ac-34f1be4c5da5', meta={}, notes=None, result_format=<ResultFormat.COMPLETE: 'COMPLETE'>, description=None, catch_exceptions=True, rendered_content=None, windows=None, batch_id=None, column='REGION', mostly=0.99, row_condition=None, condition_parser=None, value_set=['GTA', 'QUEBEC', 'PRAIRIES', 'PACIFIC', 'ALBERTA', 'ONTARIO', 'ATLANTIC']),\n",
       " ExpectColumnValuesToNotBeNull(id='7f4802f2-7ef8-471b-8858-e4f8e0e9c679', meta={}, notes=None, result_format=<ResultFormat.COMPLETE: 'COMPLETE'>, description=None, catch_exceptions=True, rendered_content=None, windows=None, batch_id=None, column='REGION', mostly=1, row_condition=None, condition_parser=None),\n",
       " ExpectColumnValuesToNotBeNull(id='6c5ea5ad-227f-4de1-8cb8-1b953b938ae1', meta={}, notes=None, result_format=<ResultFormat.COMPLETE: 'COMPLETE'>, description=None, catch_exceptions=True, rendered_content=None, windows=None, batch_id=None, column='CERTNUM', mostly=1, row_condition=None, condition_parser=None),\n",
       " ExpectColumnValuesToBeBetween(id='93ca2687-a5ec-443e-b316-d625bdbaa9b0', meta={}, notes=None, result_format=<ResultFormat.COMPLETE: 'COMPLETE'>, description=None, catch_exceptions=True, rendered_content=None, windows=None, batch_id=None, column='CURRENT_OUTSTANDING_BAL_AMT', mostly=1, row_condition=None, condition_parser=None, min_value=None, max_value=1500000.0, strict_min=False, strict_max=False),\n",
       " ExpectColumnValuesToNotBeNull(id='2640c3bc-e208-4df5-b10a-74222f25d02f', meta={}, notes=None, result_format=<ResultFormat.COMPLETE: 'COMPLETE'>, description=\"Column 'CURRENT_OUTSTANDING_BAL_AMT' should not be null when CPA_REMAINING_AMORTIZATION > 0 or CPA_REMAINING_AMORTIZATION.notnull()\", catch_exceptions=True, rendered_content=None, windows=None, batch_id=None, column='CURRENT_OUTSTANDING_BAL_AMT', mostly=1, row_condition='CPA_REMAINING_AMORTIZATION > 0 or CPA_REMAINING_AMORTIZATION.notnull()', condition_parser='pandas')]"
      ]
     },
     "execution_count": 5,
     "metadata": {},
     "output_type": "execute_result"
    }
   ],
   "source": [
    "suite = context.suites.get(name=\"daily_delq-quality_suite\")\n",
    "suite.expectations"
   ]
  },
  {
   "cell_type": "code",
   "execution_count": 6,
   "id": "0a09e72c",
   "metadata": {},
   "outputs": [
    {
     "data": {
      "text/plain": [
       "'C:\\\\Users\\\\650000337\\\\Documents\\\\Lax_dev\\\\gx'"
      ]
     },
     "execution_count": 6,
     "metadata": {},
     "output_type": "execute_result"
    }
   ],
   "source": [
    "context.root_directory"
   ]
  },
  {
   "cell_type": "markdown",
   "id": "38385812",
   "metadata": {},
   "source": [
    "### Copying folder to another location"
   ]
  },
  {
   "cell_type": "code",
   "execution_count": 8,
   "id": "b02fb3e6",
   "metadata": {},
   "outputs": [
    {
     "name": "stdout",
     "output_type": "stream",
     "text": [
      "Removing existing destination folder: C:\\Users\\650000337\\Documents\\Lax_dev\\gx\n"
     ]
    },
    {
     "data": {
      "text/plain": [
       "'C:\\\\Users\\\\650000337\\\\Documents\\\\Lax_dev\\\\gx'"
      ]
     },
     "execution_count": 8,
     "metadata": {},
     "output_type": "execute_result"
    }
   ],
   "source": [
    "import shutil\n",
    "import os\n",
    "\n",
    "\n",
    "source_folder = r\"C:\\Users\\650000337\\Documents\\Lax_dev\\Data_Quality_Great_Expectations\\gx\"\n",
    "destination_folder = r\"C:\\Users\\650000337\\Documents\\Lax_dev\\gx\"\n",
    "# Remove destination folder if it exists\n",
    "if os.path.exists(destination_folder):\n",
    "    print(f\"Removing existing destination folder: {destination_folder}\")\n",
    "    shutil.rmtree(destination_folder)\n",
    "\n",
    "# Copy the source folder to destination\n",
    "shutil.copytree(source_folder, destination_folder)"
   ]
  },
  {
   "cell_type": "markdown",
   "id": "34d52f84",
   "metadata": {},
   "source": [
    "### Data Profiling "
   ]
  },
  {
   "cell_type": "code",
   "execution_count": 9,
   "id": "9894e9f8",
   "metadata": {},
   "outputs": [],
   "source": [
    "batch_definition = (\n",
    "    context.data_sources.get(data_source_name)\n",
    "    .get_asset(data_asset_name)\n",
    "    .get_batch_definition(batch_definition_name)\n",
    ")"
   ]
  },
  {
   "cell_type": "code",
   "execution_count": 10,
   "id": "41376b60",
   "metadata": {},
   "outputs": [],
   "source": [
    "batch = batch_definition.get_batch(batch_parameters=batch_parameters)"
   ]
  },
  {
   "cell_type": "code",
   "execution_count": 4,
   "id": "396042e6",
   "metadata": {},
   "outputs": [
    {
     "ename": "ModuleNotFoundError",
     "evalue": "No module named 'pkg_resources'",
     "output_type": "error",
     "traceback": [
      "\u001b[31m---------------------------------------------------------------------------\u001b[39m",
      "\u001b[31mModuleNotFoundError\u001b[39m                       Traceback (most recent call last)",
      "\u001b[36mCell\u001b[39m\u001b[36m \u001b[39m\u001b[32mIn[4]\u001b[39m\u001b[32m, line 1\u001b[39m\n\u001b[32m----> \u001b[39m\u001b[32m1\u001b[39m \u001b[38;5;28;01mfrom\u001b[39;00m\u001b[38;5;250m \u001b[39m\u001b[34;01mydata_profiling\u001b[39;00m\u001b[38;5;250m \u001b[39m\u001b[38;5;28;01mimport\u001b[39;00m ProfileReport\n",
      "\u001b[36mFile \u001b[39m\u001b[32mc:\\Users\\650000337\\Documents\\Lax_dev\\Data_Quality_Great_Expectations\\.venv\\Lib\\site-packages\\ydata_profiling\\__init__.py:10\u001b[39m\n\u001b[32m      6\u001b[39m \u001b[38;5;28;01mimport\u001b[39;00m\u001b[38;5;250m \u001b[39m\u001b[34;01mwarnings\u001b[39;00m  \u001b[38;5;66;03m# isort:skip # noqa\u001b[39;00m\n\u001b[32m      8\u001b[39m \u001b[38;5;28;01mimport\u001b[39;00m\u001b[38;5;250m \u001b[39m\u001b[34;01mimportlib\u001b[39;00m\u001b[34;01m.\u001b[39;00m\u001b[34;01mutil\u001b[39;00m  \u001b[38;5;66;03m# isort:skip # noqa\u001b[39;00m\n\u001b[32m---> \u001b[39m\u001b[32m10\u001b[39m \u001b[38;5;28;01mfrom\u001b[39;00m\u001b[38;5;250m \u001b[39m\u001b[34;01mydata_profiling\u001b[39;00m\u001b[34;01m.\u001b[39;00m\u001b[34;01mcompare_reports\u001b[39;00m\u001b[38;5;250m \u001b[39m\u001b[38;5;28;01mimport\u001b[39;00m compare  \u001b[38;5;66;03m# isort:skip # noqa\u001b[39;00m\n\u001b[32m     11\u001b[39m \u001b[38;5;28;01mfrom\u001b[39;00m\u001b[38;5;250m \u001b[39m\u001b[34;01mydata_profiling\u001b[39;00m\u001b[34;01m.\u001b[39;00m\u001b[34;01mcontroller\u001b[39;00m\u001b[38;5;250m \u001b[39m\u001b[38;5;28;01mimport\u001b[39;00m pandas_decorator  \u001b[38;5;66;03m# isort:skip # noqa\u001b[39;00m\n\u001b[32m     12\u001b[39m \u001b[38;5;28;01mfrom\u001b[39;00m\u001b[38;5;250m \u001b[39m\u001b[34;01mydata_profiling\u001b[39;00m\u001b[34;01m.\u001b[39;00m\u001b[34;01mprofile_report\u001b[39;00m\u001b[38;5;250m \u001b[39m\u001b[38;5;28;01mimport\u001b[39;00m ProfileReport  \u001b[38;5;66;03m# isort:skip # noqa\u001b[39;00m\n",
      "\u001b[36mFile \u001b[39m\u001b[32mc:\\Users\\650000337\\Documents\\Lax_dev\\Data_Quality_Great_Expectations\\.venv\\Lib\\site-packages\\ydata_profiling\\compare_reports.py:12\u001b[39m\n\u001b[32m     10\u001b[39m \u001b[38;5;28;01mfrom\u001b[39;00m\u001b[38;5;250m \u001b[39m\u001b[34;01mydata_profiling\u001b[39;00m\u001b[34;01m.\u001b[39;00m\u001b[34;01mmodel\u001b[39;00m\u001b[38;5;250m \u001b[39m\u001b[38;5;28;01mimport\u001b[39;00m BaseDescription\n\u001b[32m     11\u001b[39m \u001b[38;5;28;01mfrom\u001b[39;00m\u001b[38;5;250m \u001b[39m\u001b[34;01mydata_profiling\u001b[39;00m\u001b[34;01m.\u001b[39;00m\u001b[34;01mmodel\u001b[39;00m\u001b[34;01m.\u001b[39;00m\u001b[34;01malerts\u001b[39;00m\u001b[38;5;250m \u001b[39m\u001b[38;5;28;01mimport\u001b[39;00m Alert\n\u001b[32m---> \u001b[39m\u001b[32m12\u001b[39m \u001b[38;5;28;01mfrom\u001b[39;00m\u001b[38;5;250m \u001b[39m\u001b[34;01mydata_profiling\u001b[39;00m\u001b[34;01m.\u001b[39;00m\u001b[34;01mprofile_report\u001b[39;00m\u001b[38;5;250m \u001b[39m\u001b[38;5;28;01mimport\u001b[39;00m ProfileReport\n\u001b[32m     15\u001b[39m \u001b[38;5;28;01mdef\u001b[39;00m\u001b[38;5;250m \u001b[39m\u001b[34m_should_wrap\u001b[39m(v1: Any, v2: Any) -> \u001b[38;5;28mbool\u001b[39m:\n\u001b[32m     16\u001b[39m     \u001b[38;5;28;01mif\u001b[39;00m \u001b[38;5;28misinstance\u001b[39m(v1, (\u001b[38;5;28mlist\u001b[39m, \u001b[38;5;28mdict\u001b[39m)):\n",
      "\u001b[36mFile \u001b[39m\u001b[32mc:\\Users\\650000337\\Documents\\Lax_dev\\Data_Quality_Great_Expectations\\.venv\\Lib\\site-packages\\ydata_profiling\\profile_report.py:11\u001b[39m\n\u001b[32m      9\u001b[39m \u001b[38;5;28;01mwith\u001b[39;00m warnings.catch_warnings():\n\u001b[32m     10\u001b[39m     warnings.simplefilter(\u001b[33m\"\u001b[39m\u001b[33mignore\u001b[39m\u001b[33m\"\u001b[39m)\n\u001b[32m---> \u001b[39m\u001b[32m11\u001b[39m     \u001b[38;5;28;01mimport\u001b[39;00m\u001b[38;5;250m \u001b[39m\u001b[34;01mpkg_resources\u001b[39;00m\n\u001b[32m     13\u001b[39m \u001b[38;5;28;01mif\u001b[39;00m \u001b[38;5;129;01mnot\u001b[39;00m is_pyspark_installed():\n\u001b[32m     14\u001b[39m     \u001b[38;5;28;01mfrom\u001b[39;00m\u001b[38;5;250m \u001b[39m\u001b[34;01mtyping\u001b[39;00m\u001b[38;5;250m \u001b[39m\u001b[38;5;28;01mimport\u001b[39;00m TypeVar\n",
      "\u001b[31mModuleNotFoundError\u001b[39m: No module named 'pkg_resources'"
     ]
    }
   ],
   "source": [
    "from ydata_profiling import ProfileReport\n",
    "\n",
    "# Create a profile report for the DataFrame\n",
    "profile = ProfileReport(df, title=\"Test Data Profiling Report\")\n",
    "\n",
    "# Save the report to HTML\n",
    "profile.to_file(\"data_profile_report.html\")"
   ]
  },
  {
   "cell_type": "code",
   "execution_count": null,
   "id": "af8f434e",
   "metadata": {},
   "outputs": [],
   "source": []
  }
 ],
 "metadata": {
  "kernelspec": {
   "display_name": ".venv",
   "language": "python",
   "name": "python3"
  },
  "language_info": {
   "codemirror_mode": {
    "name": "ipython",
    "version": 3
   },
   "file_extension": ".py",
   "mimetype": "text/x-python",
   "name": "python",
   "nbconvert_exporter": "python",
   "pygments_lexer": "ipython3",
   "version": "3.12.2"
  }
 },
 "nbformat": 4,
 "nbformat_minor": 5
}
